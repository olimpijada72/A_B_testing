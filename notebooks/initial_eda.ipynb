{
 "cells": [
  {
   "cell_type": "markdown",
   "metadata": {
    "id": "Vd4N6DIbQ8Py"
   },
   "source": [
    "# Introduction"
   ]
  },
  {
   "cell_type": "markdown",
   "metadata": {},
   "source": [
    "## Problem description: A/B testing\n",
    "\n",
    "---\n",
    "\n",
    "## Setup\n",
    "\n",
    "Players (users) are randomly split in two groups:\n",
    "\n",
    "- group1 - even loginIDs\n",
    "- group2 - odd loginIDs\n",
    "\n",
    "We are testing which is the best time / place to show popup to players asking them to allow push notifications:\n",
    "\n",
    "- group1 - immediately after the installation (before the first tutorial battle)\n",
    "- group2 - after the tutorial (which consists of 5 battles)\n",
    "\n",
    "We are optimizing towards:\n",
    "\n",
    "- Hit rate (% of players who allow push notifications)\n",
    "- Player Retention\n",
    "\n",
    "Test was run for two weeks (14 days). Only players that participated in the test appear in the provided data.\n",
    "\n",
    "## Data\n",
    "\n",
    "There are two anonimized files:\n",
    "\n",
    "- `notification_allowed.csv`\n",
    "- `user_history.csv`\n",
    "\n",
    "### notification_allowed.csv\n",
    "Sent after request popup has been shown and player has answered (closing the app defaults to `false` as an answer).\n",
    "\n",
    "```\n",
    "login_id = int, starting from 1\n",
    "time\n",
    "allowed_notifications = true / false\n",
    "date_id = int, starting from 0, measuring days since the start of the test\n",
    "```\n",
    "\n",
    "### user_history.csv\n",
    "Generated at the end of each day. It is sent for every active user and for every payer (all time payer). When 21 days pass after the player has logged in for the last time, player no longer appears in this table. This is not true for payers, as they are eligible to appear in this table no matter how long has passed since the last log in.\n",
    "\n",
    "```\n",
    "  login_id = int, starting from 1\n",
    "  registration_date_id = date_id when a player has joined the game\n",
    "  registration_channel = Paid/Organic\n",
    "  registration_country = country of origin of the first session\n",
    "  payer = player has spent money at any time in the past\n",
    "  dau = daily active player: 0 or 1 in this table\n",
    "  sessions_count = daily count of sessions\n",
    "  playtime = daily total playtime\n",
    "  last_login_day = date_id of the last login, up to this day\n",
    "  days_active_last_7_days = number of days user was active, including this day\n",
    "  cohort_size = 1 for all in this table\n",
    "  elo_rating = elo (trophie count) at the end of the day\n",
    "  arena_level = arena level at the end of the day\n",
    "  gold = gold stash at the end of the day\n",
    "  runes_stash_class1_tier1 = stash of various currencies\n",
    "  runes_stash_class2_tier1\n",
    "  runes_stash_class3_tier1\n",
    "  runes_stash_tier2\n",
    "  spell_runes_stash\n",
    "  hero_dust\n",
    "  item_dust\n",
    "  gold_gained_total = stats for various currencies\n",
    "  gold_bought_total\n",
    "  gold_spent_total\n",
    "  runes_gained_total_class1_tier1\n",
    "  runes_gained_total_class2_tier1\n",
    "  runes_gained_total_class3_tier1\n",
    "  runes_gained_total_tier_2\n",
    "  spell_runes_gained_total\n",
    "  runes_spent_class1_tier1\n",
    "  runes_spent_class2_tier1\n",
    "  runes_spent_class3_tier1\n",
    "  runes_spent_total_tier2\n",
    "  spell_runes_spent_total\n",
    "  hero_dust_spent_total\n",
    "  hero_dust_gained_total\n",
    "  tokens\n",
    "  tokens_gained_total\n",
    "  enter_queue_count = number of times player has entered PvP queue\n",
    "  battles_played = daily battles played\n",
    "  battles_won = daily battles won\n",
    "  battles_played_total = battles played up to this day\n",
    "  battles_won_total = battles won up to this day\n",
    "  heroes_unlocked = heroes unlocked up to this day\n",
    "  heroes_level = hero stats\n",
    "  hero_shards = hero stats\n",
    "  minion_upgrades = number of times user has upgraded minions\n",
    "  free_chests_opened_total = various chest stats\n",
    "  silver_chests_opened_total\n",
    "  golden_chests_opened_total\n",
    "  magical_chests_opened_total\n",
    "  victory_chests_opened_total\n",
    "  pvp_event_small_chest_small\n",
    "  pvp_event_small_chest_medium\n",
    "  pvp_event_small_chest_large\n",
    "  pvp_event_big_chest_small\n",
    "  pvp_event_big_chest_medium\n",
    "  pvp_event_big_chest_large\n",
    "  cards_gained_total = various card stats\n",
    "  minion_cards_gained_common_total\n",
    "  minion_cards_gained_rare_total\n",
    "  minion_cards_gained_epic_total\n",
    "  minion_cards_gained_legendary_total\n",
    "  spell_cards_gained_common_total\n",
    "  spell_cards_gained_rare_total\n",
    "  spell_cards_gained_epic_total\n",
    "  spell_cards_gained_legendary_total\n",
    "  campaign_tickets = various campaign stats\n",
    "  max_campaign_level\n",
    "  equipment_bonus\n",
    "  campaign_battles\n",
    "  campaign_battles_total\n",
    "  event_battles = various live event stats\n",
    "  event_battles_total\n",
    "  event_tokens\n",
    "  group_points\n",
    "  lives_spent\n",
    "  milestone_points\n",
    "  date_id = int, starting from 0, measuring days since the start of the test\n",
    "```\n"
   ]
  },
  {
   "cell_type": "markdown",
   "metadata": {
    "id": "KL-644O8RY4i"
   },
   "source": [
    "## Import libraries"
   ]
  },
  {
   "cell_type": "code",
   "execution_count": 25,
   "metadata": {
    "id": "20S4iCn8SjGf"
   },
   "outputs": [],
   "source": [
    "# Basic libraries\n",
    "import os\n",
    "import warnings\n",
    "import numpy as np\n",
    "import pandas as pd\n",
    "import seaborn as sns\n",
    "\n",
    "\n",
    "# Visualization\n",
    "import matplotlib.pyplot as plt\n",
    "import seaborn as sns\n",
    "import matplotlib.lines as mlines\n",
    "from sklearn.tree import plot_tree\n",
    "\n",
    "import random\n",
    "from pathlib import Path\n",
    "\n",
    "import scipy.stats as stats\n",
    "from scipy.stats import chi2_contingency\n",
    "from statsmodels.stats.proportion import proportions_ztest\n"
   ]
  },
  {
   "cell_type": "markdown",
   "metadata": {
    "id": "MZ5fov0CRuN6"
   },
   "source": [
    "## Util functions"
   ]
  },
  {
   "cell_type": "code",
   "execution_count": 26,
   "metadata": {
    "id": "5fAxzq4OShaf"
   },
   "outputs": [],
   "source": [
    "def na_percentage(df):\n",
    "  missing_percentage = df.isna().sum() / df.shape[0] * 100\n",
    "  missing_percentage_sorted = missing_percentage.sort_values(ascending=False)\n",
    "  print(missing_percentage_sorted)"
   ]
  },
  {
   "cell_type": "markdown",
   "metadata": {
    "id": "3XboqjYfRwXK"
   },
   "source": [
    "## Load data"
   ]
  },
  {
   "cell_type": "code",
   "execution_count": 27,
   "metadata": {
    "id": "osimFxibQ26f",
    "outputId": "cdb80a5b-19e1-4e9f-9a50-5935e16e1c3d"
   },
   "outputs": [
    {
     "data": {
      "text/plain": [
       "(3859, 4)"
      ]
     },
     "execution_count": 27,
     "metadata": {},
     "output_type": "execute_result"
    }
   ],
   "source": [
    "file_path_notification = \"/Users/mipopovic/Desktop/A_B_testing/data/notification_allowed.csv\"\n",
    "df_not = pd.read_csv(file_path_notification)\n",
    "df_not.shape"
   ]
  },
  {
   "cell_type": "code",
   "execution_count": 28,
   "metadata": {
    "colab": {
     "base_uri": "https://localhost:8080/",
     "height": 206
    },
    "id": "XqdnEfeWVMVS",
    "outputId": "5f1fb296-dba2-4834-97d7-e4956cea454f"
   },
   "outputs": [
    {
     "data": {
      "text/html": [
       "<div>\n",
       "<style scoped>\n",
       "    .dataframe tbody tr th:only-of-type {\n",
       "        vertical-align: middle;\n",
       "    }\n",
       "\n",
       "    .dataframe tbody tr th {\n",
       "        vertical-align: top;\n",
       "    }\n",
       "\n",
       "    .dataframe thead th {\n",
       "        text-align: right;\n",
       "    }\n",
       "</style>\n",
       "<table border=\"1\" class=\"dataframe\">\n",
       "  <thead>\n",
       "    <tr style=\"text-align: right;\">\n",
       "      <th></th>\n",
       "      <th>login_id</th>\n",
       "      <th>time</th>\n",
       "      <th>allowed_notifications</th>\n",
       "      <th>date_id</th>\n",
       "    </tr>\n",
       "  </thead>\n",
       "  <tbody>\n",
       "    <tr>\n",
       "      <th>0</th>\n",
       "      <td>352</td>\n",
       "      <td>999</td>\n",
       "      <td>True</td>\n",
       "      <td>0</td>\n",
       "    </tr>\n",
       "    <tr>\n",
       "      <th>1</th>\n",
       "      <td>184</td>\n",
       "      <td>2780</td>\n",
       "      <td>True</td>\n",
       "      <td>0</td>\n",
       "    </tr>\n",
       "    <tr>\n",
       "      <th>2</th>\n",
       "      <td>162</td>\n",
       "      <td>2928</td>\n",
       "      <td>False</td>\n",
       "      <td>0</td>\n",
       "    </tr>\n",
       "    <tr>\n",
       "      <th>3</th>\n",
       "      <td>130</td>\n",
       "      <td>3689</td>\n",
       "      <td>True</td>\n",
       "      <td>0</td>\n",
       "    </tr>\n",
       "    <tr>\n",
       "      <th>4</th>\n",
       "      <td>124</td>\n",
       "      <td>4547</td>\n",
       "      <td>True</td>\n",
       "      <td>0</td>\n",
       "    </tr>\n",
       "  </tbody>\n",
       "</table>\n",
       "</div>"
      ],
      "text/plain": [
       "   login_id  time  allowed_notifications  date_id\n",
       "0       352   999                   True        0\n",
       "1       184  2780                   True        0\n",
       "2       162  2928                  False        0\n",
       "3       130  3689                   True        0\n",
       "4       124  4547                   True        0"
      ]
     },
     "execution_count": 28,
     "metadata": {},
     "output_type": "execute_result"
    }
   ],
   "source": [
    "df_not.head()"
   ]
  },
  {
   "cell_type": "code",
   "execution_count": 29,
   "metadata": {
    "id": "KkeInVJQBhHQ",
    "outputId": "891e2e2a-ef94-4ae4-d8fd-bb3c056a89bb"
   },
   "outputs": [
    {
     "data": {
      "text/plain": [
       "(122459, 79)"
      ]
     },
     "execution_count": 29,
     "metadata": {},
     "output_type": "execute_result"
    }
   ],
   "source": [
    "file_path_user_history = \"/Users/mipopovic/Desktop/A_B_testing/data/user_history.csv\"\n",
    "df_us = pd.read_csv(file_path_user_history)\n",
    "df_us.shape"
   ]
  },
  {
   "cell_type": "code",
   "execution_count": 30,
   "metadata": {},
   "outputs": [
    {
     "data": {
      "text/html": [
       "<div>\n",
       "<style scoped>\n",
       "    .dataframe tbody tr th:only-of-type {\n",
       "        vertical-align: middle;\n",
       "    }\n",
       "\n",
       "    .dataframe tbody tr th {\n",
       "        vertical-align: top;\n",
       "    }\n",
       "\n",
       "    .dataframe thead th {\n",
       "        text-align: right;\n",
       "    }\n",
       "</style>\n",
       "<table border=\"1\" class=\"dataframe\">\n",
       "  <thead>\n",
       "    <tr style=\"text-align: right;\">\n",
       "      <th></th>\n",
       "      <th>login_id</th>\n",
       "      <th>registration_date_id</th>\n",
       "      <th>registration_channel</th>\n",
       "      <th>registration_country</th>\n",
       "      <th>payer</th>\n",
       "      <th>dau</th>\n",
       "      <th>sessions_count</th>\n",
       "      <th>playtime</th>\n",
       "      <th>last_login_day</th>\n",
       "      <th>days_active_last_7_days</th>\n",
       "      <th>...</th>\n",
       "      <th>equipment_bonus</th>\n",
       "      <th>campaign_battles</th>\n",
       "      <th>campaign_battles_total</th>\n",
       "      <th>event_battles</th>\n",
       "      <th>event_battles_total</th>\n",
       "      <th>event_tokens</th>\n",
       "      <th>group_points</th>\n",
       "      <th>lives_spent</th>\n",
       "      <th>milestone_points</th>\n",
       "      <th>date_id</th>\n",
       "    </tr>\n",
       "  </thead>\n",
       "  <tbody>\n",
       "    <tr>\n",
       "      <th>0</th>\n",
       "      <td>1</td>\n",
       "      <td>0</td>\n",
       "      <td>Organic</td>\n",
       "      <td>Canada</td>\n",
       "      <td>False</td>\n",
       "      <td>1</td>\n",
       "      <td>3</td>\n",
       "      <td>1351</td>\n",
       "      <td>0</td>\n",
       "      <td>1</td>\n",
       "      <td>...</td>\n",
       "      <td>0.0</td>\n",
       "      <td>5</td>\n",
       "      <td>5</td>\n",
       "      <td>0</td>\n",
       "      <td>0</td>\n",
       "      <td>15</td>\n",
       "      <td>0</td>\n",
       "      <td>0</td>\n",
       "      <td>0</td>\n",
       "      <td>0</td>\n",
       "    </tr>\n",
       "    <tr>\n",
       "      <th>1</th>\n",
       "      <td>2</td>\n",
       "      <td>0</td>\n",
       "      <td>Organic</td>\n",
       "      <td>Brazil</td>\n",
       "      <td>False</td>\n",
       "      <td>1</td>\n",
       "      <td>1</td>\n",
       "      <td>1046</td>\n",
       "      <td>0</td>\n",
       "      <td>1</td>\n",
       "      <td>...</td>\n",
       "      <td>0.0</td>\n",
       "      <td>2</td>\n",
       "      <td>2</td>\n",
       "      <td>0</td>\n",
       "      <td>0</td>\n",
       "      <td>15</td>\n",
       "      <td>0</td>\n",
       "      <td>0</td>\n",
       "      <td>0</td>\n",
       "      <td>0</td>\n",
       "    </tr>\n",
       "    <tr>\n",
       "      <th>2</th>\n",
       "      <td>3</td>\n",
       "      <td>0</td>\n",
       "      <td>Organic</td>\n",
       "      <td>Brazil</td>\n",
       "      <td>False</td>\n",
       "      <td>1</td>\n",
       "      <td>7</td>\n",
       "      <td>5854</td>\n",
       "      <td>0</td>\n",
       "      <td>1</td>\n",
       "      <td>...</td>\n",
       "      <td>0.0</td>\n",
       "      <td>8</td>\n",
       "      <td>8</td>\n",
       "      <td>0</td>\n",
       "      <td>0</td>\n",
       "      <td>40</td>\n",
       "      <td>0</td>\n",
       "      <td>0</td>\n",
       "      <td>0</td>\n",
       "      <td>0</td>\n",
       "    </tr>\n",
       "    <tr>\n",
       "      <th>3</th>\n",
       "      <td>4</td>\n",
       "      <td>0</td>\n",
       "      <td>Paid</td>\n",
       "      <td>France</td>\n",
       "      <td>False</td>\n",
       "      <td>1</td>\n",
       "      <td>1</td>\n",
       "      <td>772</td>\n",
       "      <td>0</td>\n",
       "      <td>1</td>\n",
       "      <td>...</td>\n",
       "      <td>0.0</td>\n",
       "      <td>1</td>\n",
       "      <td>1</td>\n",
       "      <td>0</td>\n",
       "      <td>0</td>\n",
       "      <td>40</td>\n",
       "      <td>0</td>\n",
       "      <td>0</td>\n",
       "      <td>0</td>\n",
       "      <td>0</td>\n",
       "    </tr>\n",
       "    <tr>\n",
       "      <th>4</th>\n",
       "      <td>5</td>\n",
       "      <td>0</td>\n",
       "      <td>Paid</td>\n",
       "      <td>United Kingdom</td>\n",
       "      <td>False</td>\n",
       "      <td>1</td>\n",
       "      <td>1</td>\n",
       "      <td>521</td>\n",
       "      <td>0</td>\n",
       "      <td>1</td>\n",
       "      <td>...</td>\n",
       "      <td>0.0</td>\n",
       "      <td>2</td>\n",
       "      <td>2</td>\n",
       "      <td>0</td>\n",
       "      <td>0</td>\n",
       "      <td>5</td>\n",
       "      <td>0</td>\n",
       "      <td>0</td>\n",
       "      <td>0</td>\n",
       "      <td>0</td>\n",
       "    </tr>\n",
       "  </tbody>\n",
       "</table>\n",
       "<p>5 rows × 79 columns</p>\n",
       "</div>"
      ],
      "text/plain": [
       "   login_id  registration_date_id registration_channel registration_country  \\\n",
       "0         1                     0              Organic               Canada   \n",
       "1         2                     0              Organic               Brazil   \n",
       "2         3                     0              Organic               Brazil   \n",
       "3         4                     0                 Paid               France   \n",
       "4         5                     0                 Paid       United Kingdom   \n",
       "\n",
       "   payer  dau  sessions_count  playtime  last_login_day  \\\n",
       "0  False    1               3      1351               0   \n",
       "1  False    1               1      1046               0   \n",
       "2  False    1               7      5854               0   \n",
       "3  False    1               1       772               0   \n",
       "4  False    1               1       521               0   \n",
       "\n",
       "   days_active_last_7_days  ...  equipment_bonus  campaign_battles  \\\n",
       "0                        1  ...              0.0                 5   \n",
       "1                        1  ...              0.0                 2   \n",
       "2                        1  ...              0.0                 8   \n",
       "3                        1  ...              0.0                 1   \n",
       "4                        1  ...              0.0                 2   \n",
       "\n",
       "   campaign_battles_total  event_battles  event_battles_total  event_tokens  \\\n",
       "0                       5              0                    0            15   \n",
       "1                       2              0                    0            15   \n",
       "2                       8              0                    0            40   \n",
       "3                       1              0                    0            40   \n",
       "4                       2              0                    0             5   \n",
       "\n",
       "   group_points  lives_spent  milestone_points  date_id  \n",
       "0             0            0                 0        0  \n",
       "1             0            0                 0        0  \n",
       "2             0            0                 0        0  \n",
       "3             0            0                 0        0  \n",
       "4             0            0                 0        0  \n",
       "\n",
       "[5 rows x 79 columns]"
      ]
     },
     "execution_count": 30,
     "metadata": {},
     "output_type": "execute_result"
    }
   ],
   "source": [
    "df_us.head()"
   ]
  },
  {
   "cell_type": "markdown",
   "metadata": {},
   "source": [
    "# EDA"
   ]
  },
  {
   "cell_type": "markdown",
   "metadata": {},
   "source": [
    "## Checking for missing values"
   ]
  },
  {
   "cell_type": "code",
   "execution_count": 31,
   "metadata": {},
   "outputs": [
    {
     "name": "stdout",
     "output_type": "stream",
     "text": [
      "login_id                 0.0\n",
      "time                     0.0\n",
      "allowed_notifications    0.0\n",
      "date_id                  0.0\n",
      "dtype: float64\n"
     ]
    }
   ],
   "source": [
    "na_percentage(df_not)"
   ]
  },
  {
   "cell_type": "code",
   "execution_count": 32,
   "metadata": {},
   "outputs": [
    {
     "name": "stdout",
     "output_type": "stream",
     "text": [
      "date_id                     0.0\n",
      "login_id                    0.0\n",
      "registration_date_id        0.0\n",
      "registration_channel        0.0\n",
      "registration_country        0.0\n",
      "                           ... \n",
      "cohort_size                 0.0\n",
      "elo_rating                  0.0\n",
      "arena_level                 0.0\n",
      "gold                        0.0\n",
      "runes_stash_class1_tier1    0.0\n",
      "Length: 79, dtype: float64\n"
     ]
    }
   ],
   "source": [
    "na_percentage(df_us)"
   ]
  },
  {
   "cell_type": "markdown",
   "metadata": {},
   "source": [
    "## Checking for duplicates "
   ]
  },
  {
   "cell_type": "code",
   "execution_count": 72,
   "metadata": {},
   "outputs": [
    {
     "data": {
      "text/plain": [
       "0"
      ]
     },
     "execution_count": 72,
     "metadata": {},
     "output_type": "execute_result"
    }
   ],
   "source": [
    "df_us.duplicated(subset=['login_id', 'date_id']).sum()"
   ]
  },
  {
   "cell_type": "markdown",
   "metadata": {},
   "source": [
    "# Hit Rate Analysis"
   ]
  },
  {
   "cell_type": "markdown",
   "metadata": {},
   "source": [
    "Splitting the users into:\n",
    "- Group 1 (evend ID): popup shown immediately\n",
    "- Gruop 2 (odd ID): popup shown after tutorial"
   ]
  },
  {
   "cell_type": "code",
   "execution_count": 33,
   "metadata": {},
   "outputs": [],
   "source": [
    "df_not['group'] = df_not['login_id'].apply(lambda x: 1 if x % 2 == 0 else 2)"
   ]
  },
  {
   "cell_type": "markdown",
   "metadata": {},
   "source": [
    "Count the total responses and hits for each group, which we use to calculate the hit rate"
   ]
  },
  {
   "cell_type": "code",
   "execution_count": 34,
   "metadata": {},
   "outputs": [],
   "source": [
    "hit_rate_summary = df_not.groupby('group')['allowed_notifications'].agg(\n",
    "    total_responses='count',\n",
    "    hits='sum'\n",
    ").reset_index()\n",
    "\n",
    "hit_rate_summary['hit_rate'] = hit_rate_summary['hits'] / hit_rate_summary['total_responses']"
   ]
  },
  {
   "cell_type": "code",
   "execution_count": 35,
   "metadata": {},
   "outputs": [
    {
     "data": {
      "text/html": [
       "<div>\n",
       "<style scoped>\n",
       "    .dataframe tbody tr th:only-of-type {\n",
       "        vertical-align: middle;\n",
       "    }\n",
       "\n",
       "    .dataframe tbody tr th {\n",
       "        vertical-align: top;\n",
       "    }\n",
       "\n",
       "    .dataframe thead th {\n",
       "        text-align: right;\n",
       "    }\n",
       "</style>\n",
       "<table border=\"1\" class=\"dataframe\">\n",
       "  <thead>\n",
       "    <tr style=\"text-align: right;\">\n",
       "      <th></th>\n",
       "      <th>group</th>\n",
       "      <th>total_responses</th>\n",
       "      <th>hits</th>\n",
       "      <th>hit_rate</th>\n",
       "    </tr>\n",
       "  </thead>\n",
       "  <tbody>\n",
       "    <tr>\n",
       "      <th>0</th>\n",
       "      <td>1</td>\n",
       "      <td>2487</td>\n",
       "      <td>1434</td>\n",
       "      <td>0.576598</td>\n",
       "    </tr>\n",
       "    <tr>\n",
       "      <th>1</th>\n",
       "      <td>2</td>\n",
       "      <td>1372</td>\n",
       "      <td>861</td>\n",
       "      <td>0.627551</td>\n",
       "    </tr>\n",
       "  </tbody>\n",
       "</table>\n",
       "</div>"
      ],
      "text/plain": [
       "   group  total_responses  hits  hit_rate\n",
       "0      1             2487  1434  0.576598\n",
       "1      2             1372   861  0.627551"
      ]
     },
     "execution_count": 35,
     "metadata": {},
     "output_type": "execute_result"
    }
   ],
   "source": [
    "hit_rate_summary.head()"
   ]
  },
  {
   "cell_type": "markdown",
   "metadata": {},
   "source": [
    "- On the bar plot below we can observe a significant difference in hit rate between the two groups\n",
    "- A stastical test is warranted to corrobarate this observation"
   ]
  },
  {
   "cell_type": "code",
   "execution_count": 36,
   "metadata": {},
   "outputs": [
    {
     "data": {
      "image/png": "[encoded data removed]",
      "text/plain": [
       "<Figure size 600x400 with 1 Axes>"
      ]
     },
     "metadata": {},
     "output_type": "display_data"
    }
   ],
   "source": [
    "plt.figure(figsize=(6, 4))\n",
    "bars = plt.bar(hit_rate_summary['group'], hit_rate_summary['hit_rate'])\n",
    "\n",
    "for bar, rate in zip(bars, hit_rate_summary['hit_rate']):\n",
    "    yval = bar.get_height()\n",
    "    plt.text(bar.get_x() + bar.get_width() / 2, yval + 0.01, f'{rate:.2%}', ha='center', va='bottom')\n",
    "\n",
    "plt.xticks([1, 2], ['Group 1\\n(Immediate)', 'Group 2\\n(After Tutorial)'])\n",
    "plt.ylabel('Hit Rate')\n",
    "plt.title('Push Notification Permission Hit Rate by Group')\n",
    "plt.ylim(0, 0.7)\n",
    "plt.grid(axis='y', linestyle='--', alpha=0.6)\n",
    "plt.tight_layout()\n",
    "plt.show()"
   ]
  },
  {
   "cell_type": "markdown",
   "metadata": {},
   "source": [
    "## Statistical Tests"
   ]
  },
  {
   "cell_type": "markdown",
   "metadata": {},
   "source": [
    "### Two-Proportion Z-Test"
   ]
  },
  {
   "cell_type": "markdown",
   "metadata": {},
   "source": [
    "A **two-proportion z-test** evaluates whether the **difference between two independent proportions** is statistically significant, within a specified confidence level.\n",
    "\n",
    "The test is appropriate when the following assumptions are met:\n",
    "- The groups are **independent** (no overlap in observations)\n",
    "- The data is **randomly and independently sampled** \n",
    "- The **sample sizes are large enough** for normal approximation to apply:\n",
    "- The population size is at least **10 times larger than the sample** (to justify independence)\n",
    "\n",
    "All conditions are satisfied in this test, so a **two-proportion z-test is appropriate.** "
   ]
  },
  {
   "attachments": {
    "1dc012df-f3d7-4b62-af80-2c32e0335e37.png": {
     "image/png": "[encoded data removed]"
    }
   },
   "cell_type": "markdown",
   "metadata": {},
   "source": [
    "![Screenshot 2025-05-23 at 13.27.58.png](attachment:1dc012df-f3d7-4b62-af80-2c32e0335e37.png)"
   ]
  },
  {
   "cell_type": "markdown",
   "metadata": {},
   "source": [
    "- **Null hypothesis (H0)**: there is **no difference** in hit rate between Group 1 and Group 2\n",
    "    - H0: p1 = p2\n",
    "\n",
    "- **Alternate hypothesis (H1)**: there **is a difference** in hit rate between Group 1 and Group 2.\n",
    "    - H1: p1 != p2\n",
    " \n",
    "- If the resulting p-value is less than 0.05 (5%), the null hypothethis will be rejected"
   ]
  },
  {
   "cell_type": "code",
   "execution_count": 125,
   "metadata": {},
   "outputs": [
    {
     "name": "stdout",
     "output_type": "stream",
     "text": [
      "Z-test statistic = -3.0861, p-value = 0.0020 (0.2%)\n"
     ]
    }
   ],
   "source": [
    "counts = hit_rate_summary['hits'].values\n",
    "nobs = hit_rate_summary['total_responses'].values\n",
    "stat, pval = proportions_ztest(count=counts, nobs=nobs)\n",
    "print(f\"Z-test statistic = {stat:.4f}, p-value = {pval:.4f} ({pval * 100:.1f}%)\")"
   ]
  },
  {
   "cell_type": "code",
   "execution_count": 126,
   "metadata": {},
   "outputs": [
    {
     "name": "stdout",
     "output_type": "stream",
     "text": [
      "[1434  861]\n",
      "[2487 1372]\n"
     ]
    }
   ],
   "source": [
    "print(counts)\n",
    "print(nobs)"
   ]
  },
  {
   "cell_type": "code",
   "execution_count": 123,
   "metadata": {},
   "outputs": [
    {
     "data": {
      "text/html": [
       "<div>\n",
       "<style scoped>\n",
       "    .dataframe tbody tr th:only-of-type {\n",
       "        vertical-align: middle;\n",
       "    }\n",
       "\n",
       "    .dataframe tbody tr th {\n",
       "        vertical-align: top;\n",
       "    }\n",
       "\n",
       "    .dataframe thead th {\n",
       "        text-align: right;\n",
       "    }\n",
       "</style>\n",
       "<table border=\"1\" class=\"dataframe\">\n",
       "  <thead>\n",
       "    <tr style=\"text-align: right;\">\n",
       "      <th></th>\n",
       "      <th>group</th>\n",
       "      <th>total_responses</th>\n",
       "      <th>hits</th>\n",
       "      <th>hit_rate</th>\n",
       "    </tr>\n",
       "  </thead>\n",
       "  <tbody>\n",
       "    <tr>\n",
       "      <th>0</th>\n",
       "      <td>1</td>\n",
       "      <td>2487</td>\n",
       "      <td>1434</td>\n",
       "      <td>0.576598</td>\n",
       "    </tr>\n",
       "    <tr>\n",
       "      <th>1</th>\n",
       "      <td>2</td>\n",
       "      <td>1372</td>\n",
       "      <td>861</td>\n",
       "      <td>0.627551</td>\n",
       "    </tr>\n",
       "  </tbody>\n",
       "</table>\n",
       "</div>"
      ],
      "text/plain": [
       "   group  total_responses  hits  hit_rate\n",
       "0      1             2487  1434  0.576598\n",
       "1      2             1372   861  0.627551"
      ]
     },
     "execution_count": 123,
     "metadata": {},
     "output_type": "execute_result"
    }
   ],
   "source": [
    "hit_rate_summary.head()"
   ]
  },
  {
   "cell_type": "markdown",
   "metadata": {},
   "source": [
    "- The p-value is 0.2%, meaning there is a **0.2% probability** of observing a difference in hit rates as extreme as this—or more—**if there were actually no real difference** between the groups (i.e., if the null hypothesis were true).\n",
    "\n",
    "- Since the p-value is **less than 0.05**, we **reject the null hypothesis** at the 5% significance level. This provides strong evidence that the **hit rates differ significantly** between the two groups.\n",
    "\n",
    "- **Group 2**, which received the popup **after the tutorial**, had a **higher hit rate**. This suggests that delaying the notification request until after the tutorial is **statistically more effective**.\n",
    "\n",
    "\n",
    "\n"
   ]
  },
  {
   "cell_type": "markdown",
   "metadata": {},
   "source": [
    "### Confidence Interval for Difference in Proportions"
   ]
  },
  {
   "cell_type": "markdown",
   "metadata": {},
   "source": [
    "### Chi-Squared Test for Independence\n"
   ]
  },
  {
   "cell_type": "code",
   "execution_count": 38,
   "metadata": {},
   "outputs": [],
   "source": [
    "from scipy.stats import chi2_contingency\n",
    "\n",
    "# Contingency table\n",
    "# Rows = group, Columns = [allowed, not allowed]\n",
    "table = [\n",
    "    [1434, 2487 - 1434],\n",
    "    [861, 1372 - 861]\n",
    "]\n",
    "\n",
    "chi2, p, dof, expected = chi2_contingency(table)"
   ]
  },
  {
   "cell_type": "markdown",
   "metadata": {},
   "source": [
    "## Conclusion"
   ]
  },
  {
   "cell_type": "markdown",
   "metadata": {},
   "source": [
    "# Retention Rate Analysis"
   ]
  },
  {
   "cell_type": "markdown",
   "metadata": {},
   "source": [
    "- The goal of this analysis is to see which group of users has the higher retention rate\n",
    "- To achieve that we need to:\n",
    "    - See the daily activity of the users are since their registration\n",
    "    - Average out, plot and visually asses those differences\n",
    "    - Perform statistical tests to confirm/deny visual assesment"
   ]
  },
  {
   "cell_type": "markdown",
   "metadata": {},
   "source": [
    "Splitting the users into:\n",
    "- Group 1 (evend ID): popup shown immediately\n",
    "- Gruop 2 (odd ID): popup shown after tutorial"
   ]
  },
  {
   "cell_type": "code",
   "execution_count": null,
   "metadata": {},
   "outputs": [],
   "source": [
    "df_us['group'] = df_us['login_id'].apply(lambda x: 1 if x % 2 == 0 else 2)"
   ]
  },
  {
   "cell_type": "markdown",
   "metadata": {},
   "source": [
    "Calculate days since registration"
   ]
  },
  {
   "cell_type": "code",
   "execution_count": 97,
   "metadata": {},
   "outputs": [],
   "source": [
    "df_us['days_since_registration'] = df_us['date_id'] - df_us['registration_date_id']"
   ]
  },
  {
   "cell_type": "markdown",
   "metadata": {},
   "source": [
    "- Here we **pivot the table** so that each row is one user (login_id)\n",
    "    - **Columns** become the days since the user registered (Day 0, Day 1, …)\n",
    "    - **Values** are daily activity (dau = 1 or 0)\n",
    "    - **fillna(0)** replaces missing values (no record = inactive that day)"
   ]
  },
  {
   "cell_type": "code",
   "execution_count": 98,
   "metadata": {},
   "outputs": [],
   "source": [
    "retention_df = df_us.pivot_table(index='login_id', \n",
    "                                 columns='days_since_registration', \n",
    "                                 values='dau').fillna(0)"
   ]
  },
  {
   "cell_type": "code",
   "execution_count": 99,
   "metadata": {},
   "outputs": [
    {
     "data": {
      "text/html": [
       "<div>\n",
       "<style scoped>\n",
       "    .dataframe tbody tr th:only-of-type {\n",
       "        vertical-align: middle;\n",
       "    }\n",
       "\n",
       "    .dataframe tbody tr th {\n",
       "        vertical-align: top;\n",
       "    }\n",
       "\n",
       "    .dataframe thead th {\n",
       "        text-align: right;\n",
       "    }\n",
       "</style>\n",
       "<table border=\"1\" class=\"dataframe\">\n",
       "  <thead>\n",
       "    <tr style=\"text-align: right;\">\n",
       "      <th>days_since_registration</th>\n",
       "      <th>0</th>\n",
       "      <th>1</th>\n",
       "      <th>2</th>\n",
       "      <th>3</th>\n",
       "      <th>4</th>\n",
       "      <th>5</th>\n",
       "      <th>6</th>\n",
       "      <th>7</th>\n",
       "      <th>8</th>\n",
       "      <th>9</th>\n",
       "      <th>...</th>\n",
       "      <th>25</th>\n",
       "      <th>26</th>\n",
       "      <th>27</th>\n",
       "      <th>28</th>\n",
       "      <th>29</th>\n",
       "      <th>30</th>\n",
       "      <th>31</th>\n",
       "      <th>32</th>\n",
       "      <th>33</th>\n",
       "      <th>34</th>\n",
       "    </tr>\n",
       "    <tr>\n",
       "      <th>login_id</th>\n",
       "      <th></th>\n",
       "      <th></th>\n",
       "      <th></th>\n",
       "      <th></th>\n",
       "      <th></th>\n",
       "      <th></th>\n",
       "      <th></th>\n",
       "      <th></th>\n",
       "      <th></th>\n",
       "      <th></th>\n",
       "      <th></th>\n",
       "      <th></th>\n",
       "      <th></th>\n",
       "      <th></th>\n",
       "      <th></th>\n",
       "      <th></th>\n",
       "      <th></th>\n",
       "      <th></th>\n",
       "      <th></th>\n",
       "      <th></th>\n",
       "      <th></th>\n",
       "    </tr>\n",
       "  </thead>\n",
       "  <tbody>\n",
       "    <tr>\n",
       "      <th>1</th>\n",
       "      <td>1.0</td>\n",
       "      <td>0.0</td>\n",
       "      <td>0.0</td>\n",
       "      <td>0.0</td>\n",
       "      <td>0.0</td>\n",
       "      <td>0.0</td>\n",
       "      <td>0.0</td>\n",
       "      <td>0.0</td>\n",
       "      <td>0.0</td>\n",
       "      <td>0.0</td>\n",
       "      <td>...</td>\n",
       "      <td>0.0</td>\n",
       "      <td>0.0</td>\n",
       "      <td>0.0</td>\n",
       "      <td>0.0</td>\n",
       "      <td>0.0</td>\n",
       "      <td>0.0</td>\n",
       "      <td>0.0</td>\n",
       "      <td>0.0</td>\n",
       "      <td>0.0</td>\n",
       "      <td>0.0</td>\n",
       "    </tr>\n",
       "    <tr>\n",
       "      <th>2</th>\n",
       "      <td>1.0</td>\n",
       "      <td>0.0</td>\n",
       "      <td>0.0</td>\n",
       "      <td>0.0</td>\n",
       "      <td>0.0</td>\n",
       "      <td>0.0</td>\n",
       "      <td>0.0</td>\n",
       "      <td>0.0</td>\n",
       "      <td>0.0</td>\n",
       "      <td>0.0</td>\n",
       "      <td>...</td>\n",
       "      <td>0.0</td>\n",
       "      <td>0.0</td>\n",
       "      <td>0.0</td>\n",
       "      <td>0.0</td>\n",
       "      <td>0.0</td>\n",
       "      <td>0.0</td>\n",
       "      <td>0.0</td>\n",
       "      <td>0.0</td>\n",
       "      <td>0.0</td>\n",
       "      <td>0.0</td>\n",
       "    </tr>\n",
       "    <tr>\n",
       "      <th>3</th>\n",
       "      <td>1.0</td>\n",
       "      <td>1.0</td>\n",
       "      <td>1.0</td>\n",
       "      <td>1.0</td>\n",
       "      <td>1.0</td>\n",
       "      <td>1.0</td>\n",
       "      <td>1.0</td>\n",
       "      <td>1.0</td>\n",
       "      <td>1.0</td>\n",
       "      <td>1.0</td>\n",
       "      <td>...</td>\n",
       "      <td>0.0</td>\n",
       "      <td>0.0</td>\n",
       "      <td>0.0</td>\n",
       "      <td>0.0</td>\n",
       "      <td>1.0</td>\n",
       "      <td>0.0</td>\n",
       "      <td>0.0</td>\n",
       "      <td>0.0</td>\n",
       "      <td>0.0</td>\n",
       "      <td>0.0</td>\n",
       "    </tr>\n",
       "    <tr>\n",
       "      <th>4</th>\n",
       "      <td>1.0</td>\n",
       "      <td>0.0</td>\n",
       "      <td>0.0</td>\n",
       "      <td>0.0</td>\n",
       "      <td>0.0</td>\n",
       "      <td>0.0</td>\n",
       "      <td>0.0</td>\n",
       "      <td>0.0</td>\n",
       "      <td>0.0</td>\n",
       "      <td>0.0</td>\n",
       "      <td>...</td>\n",
       "      <td>0.0</td>\n",
       "      <td>0.0</td>\n",
       "      <td>0.0</td>\n",
       "      <td>0.0</td>\n",
       "      <td>0.0</td>\n",
       "      <td>0.0</td>\n",
       "      <td>0.0</td>\n",
       "      <td>0.0</td>\n",
       "      <td>0.0</td>\n",
       "      <td>0.0</td>\n",
       "    </tr>\n",
       "    <tr>\n",
       "      <th>5</th>\n",
       "      <td>1.0</td>\n",
       "      <td>0.0</td>\n",
       "      <td>0.0</td>\n",
       "      <td>0.0</td>\n",
       "      <td>0.0</td>\n",
       "      <td>0.0</td>\n",
       "      <td>0.0</td>\n",
       "      <td>0.0</td>\n",
       "      <td>0.0</td>\n",
       "      <td>0.0</td>\n",
       "      <td>...</td>\n",
       "      <td>0.0</td>\n",
       "      <td>0.0</td>\n",
       "      <td>0.0</td>\n",
       "      <td>0.0</td>\n",
       "      <td>0.0</td>\n",
       "      <td>0.0</td>\n",
       "      <td>0.0</td>\n",
       "      <td>0.0</td>\n",
       "      <td>0.0</td>\n",
       "      <td>0.0</td>\n",
       "    </tr>\n",
       "  </tbody>\n",
       "</table>\n",
       "<p>5 rows × 35 columns</p>\n",
       "</div>"
      ],
      "text/plain": [
       "days_since_registration   0    1    2    3    4    5    6    7    8    9   \\\n",
       "login_id                                                                    \n",
       "1                        1.0  0.0  0.0  0.0  0.0  0.0  0.0  0.0  0.0  0.0   \n",
       "2                        1.0  0.0  0.0  0.0  0.0  0.0  0.0  0.0  0.0  0.0   \n",
       "3                        1.0  1.0  1.0  1.0  1.0  1.0  1.0  1.0  1.0  1.0   \n",
       "4                        1.0  0.0  0.0  0.0  0.0  0.0  0.0  0.0  0.0  0.0   \n",
       "5                        1.0  0.0  0.0  0.0  0.0  0.0  0.0  0.0  0.0  0.0   \n",
       "\n",
       "days_since_registration  ...   25   26   27   28   29   30   31   32   33   34  \n",
       "login_id                 ...                                                    \n",
       "1                        ...  0.0  0.0  0.0  0.0  0.0  0.0  0.0  0.0  0.0  0.0  \n",
       "2                        ...  0.0  0.0  0.0  0.0  0.0  0.0  0.0  0.0  0.0  0.0  \n",
       "3                        ...  0.0  0.0  0.0  0.0  1.0  0.0  0.0  0.0  0.0  0.0  \n",
       "4                        ...  0.0  0.0  0.0  0.0  0.0  0.0  0.0  0.0  0.0  0.0  \n",
       "5                        ...  0.0  0.0  0.0  0.0  0.0  0.0  0.0  0.0  0.0  0.0  \n",
       "\n",
       "[5 rows x 35 columns]"
      ]
     },
     "execution_count": 99,
     "metadata": {},
     "output_type": "execute_result"
    }
   ],
   "source": [
    "retention_df.head()"
   ]
  },
  {
   "cell_type": "markdown",
   "metadata": {},
   "source": [
    "We add the group information to the retention_df"
   ]
  },
  {
   "cell_type": "code",
   "execution_count": 100,
   "metadata": {},
   "outputs": [],
   "source": [
    "retention_df = retention_df.join(\n",
    "    df_us[['login_id', 'group']].drop_duplicates().set_index('login_id')\n",
    ")"
   ]
  },
  {
   "cell_type": "code",
   "execution_count": 101,
   "metadata": {},
   "outputs": [
    {
     "data": {
      "text/html": [
       "<div>\n",
       "<style scoped>\n",
       "    .dataframe tbody tr th:only-of-type {\n",
       "        vertical-align: middle;\n",
       "    }\n",
       "\n",
       "    .dataframe tbody tr th {\n",
       "        vertical-align: top;\n",
       "    }\n",
       "\n",
       "    .dataframe thead th {\n",
       "        text-align: right;\n",
       "    }\n",
       "</style>\n",
       "<table border=\"1\" class=\"dataframe\">\n",
       "  <thead>\n",
       "    <tr style=\"text-align: right;\">\n",
       "      <th></th>\n",
       "      <th>0</th>\n",
       "      <th>1</th>\n",
       "      <th>2</th>\n",
       "      <th>3</th>\n",
       "      <th>4</th>\n",
       "      <th>5</th>\n",
       "      <th>6</th>\n",
       "      <th>7</th>\n",
       "      <th>8</th>\n",
       "      <th>9</th>\n",
       "      <th>...</th>\n",
       "      <th>26</th>\n",
       "      <th>27</th>\n",
       "      <th>28</th>\n",
       "      <th>29</th>\n",
       "      <th>30</th>\n",
       "      <th>31</th>\n",
       "      <th>32</th>\n",
       "      <th>33</th>\n",
       "      <th>34</th>\n",
       "      <th>group</th>\n",
       "    </tr>\n",
       "    <tr>\n",
       "      <th>login_id</th>\n",
       "      <th></th>\n",
       "      <th></th>\n",
       "      <th></th>\n",
       "      <th></th>\n",
       "      <th></th>\n",
       "      <th></th>\n",
       "      <th></th>\n",
       "      <th></th>\n",
       "      <th></th>\n",
       "      <th></th>\n",
       "      <th></th>\n",
       "      <th></th>\n",
       "      <th></th>\n",
       "      <th></th>\n",
       "      <th></th>\n",
       "      <th></th>\n",
       "      <th></th>\n",
       "      <th></th>\n",
       "      <th></th>\n",
       "      <th></th>\n",
       "      <th></th>\n",
       "    </tr>\n",
       "  </thead>\n",
       "  <tbody>\n",
       "    <tr>\n",
       "      <th>1</th>\n",
       "      <td>1.0</td>\n",
       "      <td>0.0</td>\n",
       "      <td>0.0</td>\n",
       "      <td>0.0</td>\n",
       "      <td>0.0</td>\n",
       "      <td>0.0</td>\n",
       "      <td>0.0</td>\n",
       "      <td>0.0</td>\n",
       "      <td>0.0</td>\n",
       "      <td>0.0</td>\n",
       "      <td>...</td>\n",
       "      <td>0.0</td>\n",
       "      <td>0.0</td>\n",
       "      <td>0.0</td>\n",
       "      <td>0.0</td>\n",
       "      <td>0.0</td>\n",
       "      <td>0.0</td>\n",
       "      <td>0.0</td>\n",
       "      <td>0.0</td>\n",
       "      <td>0.0</td>\n",
       "      <td>2</td>\n",
       "    </tr>\n",
       "    <tr>\n",
       "      <th>2</th>\n",
       "      <td>1.0</td>\n",
       "      <td>0.0</td>\n",
       "      <td>0.0</td>\n",
       "      <td>0.0</td>\n",
       "      <td>0.0</td>\n",
       "      <td>0.0</td>\n",
       "      <td>0.0</td>\n",
       "      <td>0.0</td>\n",
       "      <td>0.0</td>\n",
       "      <td>0.0</td>\n",
       "      <td>...</td>\n",
       "      <td>0.0</td>\n",
       "      <td>0.0</td>\n",
       "      <td>0.0</td>\n",
       "      <td>0.0</td>\n",
       "      <td>0.0</td>\n",
       "      <td>0.0</td>\n",
       "      <td>0.0</td>\n",
       "      <td>0.0</td>\n",
       "      <td>0.0</td>\n",
       "      <td>1</td>\n",
       "    </tr>\n",
       "    <tr>\n",
       "      <th>3</th>\n",
       "      <td>1.0</td>\n",
       "      <td>1.0</td>\n",
       "      <td>1.0</td>\n",
       "      <td>1.0</td>\n",
       "      <td>1.0</td>\n",
       "      <td>1.0</td>\n",
       "      <td>1.0</td>\n",
       "      <td>1.0</td>\n",
       "      <td>1.0</td>\n",
       "      <td>1.0</td>\n",
       "      <td>...</td>\n",
       "      <td>0.0</td>\n",
       "      <td>0.0</td>\n",
       "      <td>0.0</td>\n",
       "      <td>1.0</td>\n",
       "      <td>0.0</td>\n",
       "      <td>0.0</td>\n",
       "      <td>0.0</td>\n",
       "      <td>0.0</td>\n",
       "      <td>0.0</td>\n",
       "      <td>2</td>\n",
       "    </tr>\n",
       "    <tr>\n",
       "      <th>4</th>\n",
       "      <td>1.0</td>\n",
       "      <td>0.0</td>\n",
       "      <td>0.0</td>\n",
       "      <td>0.0</td>\n",
       "      <td>0.0</td>\n",
       "      <td>0.0</td>\n",
       "      <td>0.0</td>\n",
       "      <td>0.0</td>\n",
       "      <td>0.0</td>\n",
       "      <td>0.0</td>\n",
       "      <td>...</td>\n",
       "      <td>0.0</td>\n",
       "      <td>0.0</td>\n",
       "      <td>0.0</td>\n",
       "      <td>0.0</td>\n",
       "      <td>0.0</td>\n",
       "      <td>0.0</td>\n",
       "      <td>0.0</td>\n",
       "      <td>0.0</td>\n",
       "      <td>0.0</td>\n",
       "      <td>1</td>\n",
       "    </tr>\n",
       "    <tr>\n",
       "      <th>5</th>\n",
       "      <td>1.0</td>\n",
       "      <td>0.0</td>\n",
       "      <td>0.0</td>\n",
       "      <td>0.0</td>\n",
       "      <td>0.0</td>\n",
       "      <td>0.0</td>\n",
       "      <td>0.0</td>\n",
       "      <td>0.0</td>\n",
       "      <td>0.0</td>\n",
       "      <td>0.0</td>\n",
       "      <td>...</td>\n",
       "      <td>0.0</td>\n",
       "      <td>0.0</td>\n",
       "      <td>0.0</td>\n",
       "      <td>0.0</td>\n",
       "      <td>0.0</td>\n",
       "      <td>0.0</td>\n",
       "      <td>0.0</td>\n",
       "      <td>0.0</td>\n",
       "      <td>0.0</td>\n",
       "      <td>2</td>\n",
       "    </tr>\n",
       "  </tbody>\n",
       "</table>\n",
       "<p>5 rows × 36 columns</p>\n",
       "</div>"
      ],
      "text/plain": [
       "            0    1    2    3    4    5    6    7    8    9  ...   26   27  \\\n",
       "login_id                                                    ...             \n",
       "1         1.0  0.0  0.0  0.0  0.0  0.0  0.0  0.0  0.0  0.0  ...  0.0  0.0   \n",
       "2         1.0  0.0  0.0  0.0  0.0  0.0  0.0  0.0  0.0  0.0  ...  0.0  0.0   \n",
       "3         1.0  1.0  1.0  1.0  1.0  1.0  1.0  1.0  1.0  1.0  ...  0.0  0.0   \n",
       "4         1.0  0.0  0.0  0.0  0.0  0.0  0.0  0.0  0.0  0.0  ...  0.0  0.0   \n",
       "5         1.0  0.0  0.0  0.0  0.0  0.0  0.0  0.0  0.0  0.0  ...  0.0  0.0   \n",
       "\n",
       "           28   29   30   31   32   33   34  group  \n",
       "login_id                                            \n",
       "1         0.0  0.0  0.0  0.0  0.0  0.0  0.0      2  \n",
       "2         0.0  0.0  0.0  0.0  0.0  0.0  0.0      1  \n",
       "3         0.0  1.0  0.0  0.0  0.0  0.0  0.0      2  \n",
       "4         0.0  0.0  0.0  0.0  0.0  0.0  0.0      1  \n",
       "5         0.0  0.0  0.0  0.0  0.0  0.0  0.0      2  \n",
       "\n",
       "[5 rows x 36 columns]"
      ]
     },
     "execution_count": 101,
     "metadata": {},
     "output_type": "execute_result"
    }
   ],
   "source": [
    "retention_df.head()"
   ]
  },
  {
   "cell_type": "markdown",
   "metadata": {},
   "source": [
    "We average out the values for each group"
   ]
  },
  {
   "cell_type": "code",
   "execution_count": 102,
   "metadata": {},
   "outputs": [],
   "source": [
    "retention_by_group = retention_df.groupby('group').mean()\n"
   ]
  },
  {
   "cell_type": "code",
   "execution_count": 103,
   "metadata": {},
   "outputs": [
    {
     "data": {
      "text/html": [
       "<div>\n",
       "<style scoped>\n",
       "    .dataframe tbody tr th:only-of-type {\n",
       "        vertical-align: middle;\n",
       "    }\n",
       "\n",
       "    .dataframe tbody tr th {\n",
       "        vertical-align: top;\n",
       "    }\n",
       "\n",
       "    .dataframe thead th {\n",
       "        text-align: right;\n",
       "    }\n",
       "</style>\n",
       "<table border=\"1\" class=\"dataframe\">\n",
       "  <thead>\n",
       "    <tr style=\"text-align: right;\">\n",
       "      <th></th>\n",
       "      <th>0</th>\n",
       "      <th>1</th>\n",
       "      <th>2</th>\n",
       "      <th>3</th>\n",
       "      <th>4</th>\n",
       "      <th>5</th>\n",
       "      <th>6</th>\n",
       "      <th>7</th>\n",
       "      <th>8</th>\n",
       "      <th>9</th>\n",
       "      <th>...</th>\n",
       "      <th>25</th>\n",
       "      <th>26</th>\n",
       "      <th>27</th>\n",
       "      <th>28</th>\n",
       "      <th>29</th>\n",
       "      <th>30</th>\n",
       "      <th>31</th>\n",
       "      <th>32</th>\n",
       "      <th>33</th>\n",
       "      <th>34</th>\n",
       "    </tr>\n",
       "    <tr>\n",
       "      <th>group</th>\n",
       "      <th></th>\n",
       "      <th></th>\n",
       "      <th></th>\n",
       "      <th></th>\n",
       "      <th></th>\n",
       "      <th></th>\n",
       "      <th></th>\n",
       "      <th></th>\n",
       "      <th></th>\n",
       "      <th></th>\n",
       "      <th></th>\n",
       "      <th></th>\n",
       "      <th></th>\n",
       "      <th></th>\n",
       "      <th></th>\n",
       "      <th></th>\n",
       "      <th></th>\n",
       "      <th></th>\n",
       "      <th></th>\n",
       "      <th></th>\n",
       "      <th></th>\n",
       "    </tr>\n",
       "  </thead>\n",
       "  <tbody>\n",
       "    <tr>\n",
       "      <th>1</th>\n",
       "      <td>0.999196</td>\n",
       "      <td>0.425070</td>\n",
       "      <td>0.358779</td>\n",
       "      <td>0.319004</td>\n",
       "      <td>0.288871</td>\n",
       "      <td>0.270791</td>\n",
       "      <td>0.252310</td>\n",
       "      <td>0.239454</td>\n",
       "      <td>0.229008</td>\n",
       "      <td>0.218160</td>\n",
       "      <td>...</td>\n",
       "      <td>0.098835</td>\n",
       "      <td>0.087585</td>\n",
       "      <td>0.075934</td>\n",
       "      <td>0.064283</td>\n",
       "      <td>0.056649</td>\n",
       "      <td>0.045802</td>\n",
       "      <td>0.036963</td>\n",
       "      <td>0.028526</td>\n",
       "      <td>0.018481</td>\n",
       "      <td>0.008839</td>\n",
       "    </tr>\n",
       "    <tr>\n",
       "      <th>2</th>\n",
       "      <td>0.998795</td>\n",
       "      <td>0.458635</td>\n",
       "      <td>0.384337</td>\n",
       "      <td>0.342972</td>\n",
       "      <td>0.312851</td>\n",
       "      <td>0.290361</td>\n",
       "      <td>0.270281</td>\n",
       "      <td>0.251406</td>\n",
       "      <td>0.241365</td>\n",
       "      <td>0.229719</td>\n",
       "      <td>...</td>\n",
       "      <td>0.100000</td>\n",
       "      <td>0.086747</td>\n",
       "      <td>0.075502</td>\n",
       "      <td>0.064659</td>\n",
       "      <td>0.056225</td>\n",
       "      <td>0.045382</td>\n",
       "      <td>0.035743</td>\n",
       "      <td>0.028112</td>\n",
       "      <td>0.018474</td>\n",
       "      <td>0.008835</td>\n",
       "    </tr>\n",
       "  </tbody>\n",
       "</table>\n",
       "<p>2 rows × 35 columns</p>\n",
       "</div>"
      ],
      "text/plain": [
       "             0         1         2         3         4         5         6   \\\n",
       "group                                                                         \n",
       "1      0.999196  0.425070  0.358779  0.319004  0.288871  0.270791  0.252310   \n",
       "2      0.998795  0.458635  0.384337  0.342972  0.312851  0.290361  0.270281   \n",
       "\n",
       "             7         8         9   ...        25        26        27  \\\n",
       "group                                ...                                 \n",
       "1      0.239454  0.229008  0.218160  ...  0.098835  0.087585  0.075934   \n",
       "2      0.251406  0.241365  0.229719  ...  0.100000  0.086747  0.075502   \n",
       "\n",
       "             28        29        30        31        32        33        34  \n",
       "group                                                                        \n",
       "1      0.064283  0.056649  0.045802  0.036963  0.028526  0.018481  0.008839  \n",
       "2      0.064659  0.056225  0.045382  0.035743  0.028112  0.018474  0.008835  \n",
       "\n",
       "[2 rows x 35 columns]"
      ]
     },
     "execution_count": 103,
     "metadata": {},
     "output_type": "execute_result"
    }
   ],
   "source": [
    "retention_by_group.head()"
   ]
  },
  {
   "cell_type": "markdown",
   "metadata": {},
   "source": [
    "- On the plot below we can observe the retention curves for Group 1 and Group 2\n",
    "- There seems to be little-to-no difference for the rentention rates\n",
    "- A more detailed statistical assesment is warranted "
   ]
  },
  {
   "cell_type": "code",
   "execution_count": 57,
   "metadata": {},
   "outputs": [
    {
     "data": {
      "text/plain": [
       "Text(0, 0.5, 'Retention Rate')"
      ]
     },
     "execution_count": 57,
     "metadata": {},
     "output_type": "execute_result"
    },
    {
     "data": {
      "image/png": "[encoded data removed]",
      "text/plain": [
       "<Figure size 640x480 with 1 Axes>"
      ]
     },
     "metadata": {},
     "output_type": "display_data"
    }
   ],
   "source": [
    "retention_by_group.T.plot(title='Retention Curve: Group 1 vs Group 2')\n",
    "plt.xlabel('Day since Registration')\n",
    "plt.ylabel('Retention Rate')\n"
   ]
  },
  {
   "cell_type": "markdown",
   "metadata": {},
   "source": [
    "### Statistical Tests"
   ]
  },
  {
   "cell_type": "markdown",
   "metadata": {},
   "source": [
    "#### Two-Proportion Z-Test"
   ]
  },
  {
   "cell_type": "markdown",
   "metadata": {},
   "source": [
    "To determine whether there is a statistically significant difference in retention rates between **Group 1** and **Group 2**, we perform a **Two-Proportion Z-Test.**\n",
    "\n",
    "Although we analyze retention across multiple days, this is a similar problem to **hit rate comparison**, because each individual day can be treated as a separate comparison of **binary outcomes** *(retained vs. not retained)*. This aligns with a classic **two-proportion comparison**: we are evaluating whether the **proportion of users who return** on a given day differs between **two independent groups**.\n",
    "\n",
    "The test is appropriate because:\n",
    "- The samples (**Group 1** and **Group 2**) are **independent** (randomly assigned).\n",
    "- The outcome (**user retention on a given day**) is **binary**.\n",
    "- The **sample sizes** are large enough for the **normal approximation** used in the Z-test to be valid."
   ]
  },
  {
   "cell_type": "code",
   "execution_count": 156,
   "metadata": {},
   "outputs": [],
   "source": [
    "def ztest_day(day):\n",
    "    day_data = retention_df[day] # Binary retention data (1 if active, 0 if not) for a given day\n",
    "    # Split data by experimental group\n",
    "    group1 = day_data[retention_df['group'] == 1]\n",
    "    group2 = day_data[retention_df['group'] == 2]\n",
    "    count = [group1.sum(), group2.sum()] #number of active users that day\n",
    "    nobs = [group1.count(), group2.count()] #number of people in that group\n",
    "    stat, pval = proportions_ztest(count=count, nobs=nobs) \n",
    "    return stat, pval"
   ]
  },
  {
   "cell_type": "markdown",
   "metadata": {},
   "source": [
    "Calculating the Z statistic and p-value for each of the 35 days"
   ]
  },
  {
   "cell_type": "code",
   "execution_count": 164,
   "metadata": {},
   "outputs": [],
   "source": [
    "ztest_results = []\n",
    "for day in range(35):\n",
    "    stat, pval = ztest_day(day)\n",
    "    ztest_results.append({'day': day, 'z_stat': stat, 'p_value': pval})\n",
    "results_df = pd.DataFrame(ztest_results)"
   ]
  },
  {
   "cell_type": "code",
   "execution_count": 174,
   "metadata": {},
   "outputs": [
    {
     "data": {
      "text/html": [
       "<div>\n",
       "<style scoped>\n",
       "    .dataframe tbody tr th:only-of-type {\n",
       "        vertical-align: middle;\n",
       "    }\n",
       "\n",
       "    .dataframe tbody tr th {\n",
       "        vertical-align: top;\n",
       "    }\n",
       "\n",
       "    .dataframe thead th {\n",
       "        text-align: right;\n",
       "    }\n",
       "</style>\n",
       "<table border=\"1\" class=\"dataframe\">\n",
       "  <thead>\n",
       "    <tr style=\"text-align: right;\">\n",
       "      <th></th>\n",
       "      <th>day</th>\n",
       "      <th>z_stat</th>\n",
       "      <th>p_value</th>\n",
       "    </tr>\n",
       "  </thead>\n",
       "  <tbody>\n",
       "    <tr>\n",
       "      <th>0</th>\n",
       "      <td>0</td>\n",
       "      <td>0.446989</td>\n",
       "      <td>0.654883</td>\n",
       "    </tr>\n",
       "    <tr>\n",
       "      <th>1</th>\n",
       "      <td>1</td>\n",
       "      <td>-2.384538</td>\n",
       "      <td>0.017101</td>\n",
       "    </tr>\n",
       "    <tr>\n",
       "      <th>2</th>\n",
       "      <td>2</td>\n",
       "      <td>-1.866095</td>\n",
       "      <td>0.062028</td>\n",
       "    </tr>\n",
       "    <tr>\n",
       "      <th>3</th>\n",
       "      <td>3</td>\n",
       "      <td>-1.797024</td>\n",
       "      <td>0.072332</td>\n",
       "    </tr>\n",
       "    <tr>\n",
       "      <th>4</th>\n",
       "      <td>4</td>\n",
       "      <td>-1.844723</td>\n",
       "      <td>0.065078</td>\n",
       "    </tr>\n",
       "    <tr>\n",
       "      <th>5</th>\n",
       "      <td>5</td>\n",
       "      <td>-1.536782</td>\n",
       "      <td>0.124347</td>\n",
       "    </tr>\n",
       "    <tr>\n",
       "      <th>6</th>\n",
       "      <td>6</td>\n",
       "      <td>-1.443145</td>\n",
       "      <td>0.148980</td>\n",
       "    </tr>\n",
       "    <tr>\n",
       "      <th>7</th>\n",
       "      <td>7</td>\n",
       "      <td>-0.979870</td>\n",
       "      <td>0.327150</td>\n",
       "    </tr>\n",
       "    <tr>\n",
       "      <th>8</th>\n",
       "      <td>8</td>\n",
       "      <td>-1.028013</td>\n",
       "      <td>0.303944</td>\n",
       "    </tr>\n",
       "    <tr>\n",
       "      <th>9</th>\n",
       "      <td>9</td>\n",
       "      <td>-0.978242</td>\n",
       "      <td>0.327955</td>\n",
       "    </tr>\n",
       "    <tr>\n",
       "      <th>10</th>\n",
       "      <td>10</td>\n",
       "      <td>-0.824098</td>\n",
       "      <td>0.409884</td>\n",
       "    </tr>\n",
       "    <tr>\n",
       "      <th>11</th>\n",
       "      <td>11</td>\n",
       "      <td>-0.801322</td>\n",
       "      <td>0.422945</td>\n",
       "    </tr>\n",
       "    <tr>\n",
       "      <th>12</th>\n",
       "      <td>12</td>\n",
       "      <td>-0.814397</td>\n",
       "      <td>0.415418</td>\n",
       "    </tr>\n",
       "    <tr>\n",
       "      <th>13</th>\n",
       "      <td>13</td>\n",
       "      <td>-0.536592</td>\n",
       "      <td>0.591550</td>\n",
       "    </tr>\n",
       "    <tr>\n",
       "      <th>14</th>\n",
       "      <td>14</td>\n",
       "      <td>-0.543582</td>\n",
       "      <td>0.586729</td>\n",
       "    </tr>\n",
       "    <tr>\n",
       "      <th>15</th>\n",
       "      <td>15</td>\n",
       "      <td>-0.438053</td>\n",
       "      <td>0.661348</td>\n",
       "    </tr>\n",
       "    <tr>\n",
       "      <th>16</th>\n",
       "      <td>16</td>\n",
       "      <td>-0.369502</td>\n",
       "      <td>0.711754</td>\n",
       "    </tr>\n",
       "    <tr>\n",
       "      <th>17</th>\n",
       "      <td>17</td>\n",
       "      <td>-0.222267</td>\n",
       "      <td>0.824106</td>\n",
       "    </tr>\n",
       "    <tr>\n",
       "      <th>18</th>\n",
       "      <td>18</td>\n",
       "      <td>-0.340583</td>\n",
       "      <td>0.733418</td>\n",
       "    </tr>\n",
       "    <tr>\n",
       "      <th>19</th>\n",
       "      <td>19</td>\n",
       "      <td>-0.422096</td>\n",
       "      <td>0.672955</td>\n",
       "    </tr>\n",
       "    <tr>\n",
       "      <th>20</th>\n",
       "      <td>20</td>\n",
       "      <td>-0.269062</td>\n",
       "      <td>0.787882</td>\n",
       "    </tr>\n",
       "    <tr>\n",
       "      <th>21</th>\n",
       "      <td>21</td>\n",
       "      <td>-0.431578</td>\n",
       "      <td>0.666048</td>\n",
       "    </tr>\n",
       "    <tr>\n",
       "      <th>22</th>\n",
       "      <td>22</td>\n",
       "      <td>-0.200581</td>\n",
       "      <td>0.841027</td>\n",
       "    </tr>\n",
       "    <tr>\n",
       "      <th>23</th>\n",
       "      <td>23</td>\n",
       "      <td>-0.037474</td>\n",
       "      <td>0.970107</td>\n",
       "    </tr>\n",
       "    <tr>\n",
       "      <th>24</th>\n",
       "      <td>24</td>\n",
       "      <td>-0.085120</td>\n",
       "      <td>0.932166</td>\n",
       "    </tr>\n",
       "    <tr>\n",
       "      <th>25</th>\n",
       "      <td>25</td>\n",
       "      <td>-0.137379</td>\n",
       "      <td>0.890731</td>\n",
       "    </tr>\n",
       "    <tr>\n",
       "      <th>26</th>\n",
       "      <td>26</td>\n",
       "      <td>0.104862</td>\n",
       "      <td>0.916486</td>\n",
       "    </tr>\n",
       "    <tr>\n",
       "      <th>27</th>\n",
       "      <td>27</td>\n",
       "      <td>0.057627</td>\n",
       "      <td>0.954046</td>\n",
       "    </tr>\n",
       "    <tr>\n",
       "      <th>28</th>\n",
       "      <td>28</td>\n",
       "      <td>-0.053985</td>\n",
       "      <td>0.956947</td>\n",
       "    </tr>\n",
       "    <tr>\n",
       "      <th>29</th>\n",
       "      <td>29</td>\n",
       "      <td>0.064879</td>\n",
       "      <td>0.948270</td>\n",
       "    </tr>\n",
       "    <tr>\n",
       "      <th>30</th>\n",
       "      <td>30</td>\n",
       "      <td>0.071037</td>\n",
       "      <td>0.943369</td>\n",
       "    </tr>\n",
       "    <tr>\n",
       "      <th>31</th>\n",
       "      <td>31</td>\n",
       "      <td>0.229908</td>\n",
       "      <td>0.818163</td>\n",
       "    </tr>\n",
       "    <tr>\n",
       "      <th>32</th>\n",
       "      <td>32</td>\n",
       "      <td>0.087853</td>\n",
       "      <td>0.929994</td>\n",
       "    </tr>\n",
       "    <tr>\n",
       "      <th>33</th>\n",
       "      <td>33</td>\n",
       "      <td>0.001944</td>\n",
       "      <td>0.998449</td>\n",
       "    </tr>\n",
       "    <tr>\n",
       "      <th>34</th>\n",
       "      <td>34</td>\n",
       "      <td>0.001338</td>\n",
       "      <td>0.998932</td>\n",
       "    </tr>\n",
       "  </tbody>\n",
       "</table>\n",
       "</div>"
      ],
      "text/plain": [
       "    day    z_stat   p_value\n",
       "0     0  0.446989  0.654883\n",
       "1     1 -2.384538  0.017101\n",
       "2     2 -1.866095  0.062028\n",
       "3     3 -1.797024  0.072332\n",
       "4     4 -1.844723  0.065078\n",
       "5     5 -1.536782  0.124347\n",
       "6     6 -1.443145  0.148980\n",
       "7     7 -0.979870  0.327150\n",
       "8     8 -1.028013  0.303944\n",
       "9     9 -0.978242  0.327955\n",
       "10   10 -0.824098  0.409884\n",
       "11   11 -0.801322  0.422945\n",
       "12   12 -0.814397  0.415418\n",
       "13   13 -0.536592  0.591550\n",
       "14   14 -0.543582  0.586729\n",
       "15   15 -0.438053  0.661348\n",
       "16   16 -0.369502  0.711754\n",
       "17   17 -0.222267  0.824106\n",
       "18   18 -0.340583  0.733418\n",
       "19   19 -0.422096  0.672955\n",
       "20   20 -0.269062  0.787882\n",
       "21   21 -0.431578  0.666048\n",
       "22   22 -0.200581  0.841027\n",
       "23   23 -0.037474  0.970107\n",
       "24   24 -0.085120  0.932166\n",
       "25   25 -0.137379  0.890731\n",
       "26   26  0.104862  0.916486\n",
       "27   27  0.057627  0.954046\n",
       "28   28 -0.053985  0.956947\n",
       "29   29  0.064879  0.948270\n",
       "30   30  0.071037  0.943369\n",
       "31   31  0.229908  0.818163\n",
       "32   32  0.087853  0.929994\n",
       "33   33  0.001944  0.998449\n",
       "34   34  0.001338  0.998932"
      ]
     },
     "execution_count": 174,
     "metadata": {},
     "output_type": "execute_result"
    }
   ],
   "source": [
    "results_df"
   ]
  },
  {
   "cell_type": "markdown",
   "metadata": {},
   "source": [
    "- Based on the graph below we can observe there is **no statistically significant difference** for the retention rates between Group 1 and Group 2"
   ]
  },
  {
   "cell_type": "code",
   "execution_count": 175,
   "metadata": {},
   "outputs": [
    {
     "data": {
      "image/png": "[encoded data removed]",
      "text/plain": [
       "<Figure size 1000x500 with 1 Axes>"
      ]
     },
     "metadata": {},
     "output_type": "display_data"
    }
   ],
   "source": [
    "alpha = 0.05\n",
    "bonferroni_threshold = alpha / len(results_df)\n",
    "\n",
    "plt.figure(figsize=(10, 5))\n",
    "plt.plot(results_df['day'], results_df['p_value'], marker='o', label='p-values')\n",
    "plt.axhline(y=alpha, color='orange', linestyle='--', label='α = 0.05')\n",
    "plt.axhline(y=bonferroni_threshold, color='red', linestyle='--', label=f'Bonferroni α = {bonferroni_threshold:.4f}')\n",
    "plt.title('P-values across 35 Days of Retention Comparison')\n",
    "plt.xlabel('Day')\n",
    "plt.ylabel('P-value')\n",
    "plt.legend()\n",
    "plt.grid(True)\n",
    "plt.tight_layout()\n",
    "plt.show()"
   ]
  },
  {
   "cell_type": "markdown",
   "metadata": {},
   "source": [
    "The exception is day 1 where the p-value is 0.017 (1.7%), but this can be explained as an anomally, since the test was ran 35 times."
   ]
  },
  {
   "cell_type": "code",
   "execution_count": 172,
   "metadata": {},
   "outputs": [
    {
     "data": {
      "text/html": [
       "<div>\n",
       "<style scoped>\n",
       "    .dataframe tbody tr th:only-of-type {\n",
       "        vertical-align: middle;\n",
       "    }\n",
       "\n",
       "    .dataframe tbody tr th {\n",
       "        vertical-align: top;\n",
       "    }\n",
       "\n",
       "    .dataframe thead th {\n",
       "        text-align: right;\n",
       "    }\n",
       "</style>\n",
       "<table border=\"1\" class=\"dataframe\">\n",
       "  <thead>\n",
       "    <tr style=\"text-align: right;\">\n",
       "      <th></th>\n",
       "      <th>day</th>\n",
       "      <th>z_stat</th>\n",
       "      <th>p_value</th>\n",
       "    </tr>\n",
       "  </thead>\n",
       "  <tbody>\n",
       "    <tr>\n",
       "      <th>1</th>\n",
       "      <td>1</td>\n",
       "      <td>-2.384538</td>\n",
       "      <td>0.017101</td>\n",
       "    </tr>\n",
       "  </tbody>\n",
       "</table>\n",
       "</div>"
      ],
      "text/plain": [
       "   day    z_stat   p_value\n",
       "1    1 -2.384538  0.017101"
      ]
     },
     "execution_count": 172,
     "metadata": {},
     "output_type": "execute_result"
    }
   ],
   "source": [
    "results_df[results_df['p_value'] < 0.05]"
   ]
  },
  {
   "cell_type": "markdown",
   "metadata": {},
   "source": [
    "#### Chi-Squared Test for Independence\n"
   ]
  },
  {
   "cell_type": "code",
   "execution_count": 151,
   "metadata": {},
   "outputs": [
    {
     "ename": "KeyError",
     "evalue": "'day'",
     "output_type": "error",
     "traceback": [
      "\u001b[0;31m---------------------------------------------------------------------------\u001b[0m",
      "\u001b[0;31mKeyError\u001b[0m                                  Traceback (most recent call last)",
      "File \u001b[0;32m~/Desktop/A_B_testing/.venv/lib/python3.10/site-packages/pandas/core/indexes/base.py:3805\u001b[0m, in \u001b[0;36mIndex.get_loc\u001b[0;34m(self, key)\u001b[0m\n\u001b[1;32m   3804\u001b[0m \u001b[38;5;28;01mtry\u001b[39;00m:\n\u001b[0;32m-> 3805\u001b[0m     \u001b[38;5;28;01mreturn\u001b[39;00m \u001b[38;5;28;43mself\u001b[39;49m\u001b[38;5;241;43m.\u001b[39;49m\u001b[43m_engine\u001b[49m\u001b[38;5;241;43m.\u001b[39;49m\u001b[43mget_loc\u001b[49m\u001b[43m(\u001b[49m\u001b[43mcasted_key\u001b[49m\u001b[43m)\u001b[49m\n\u001b[1;32m   3806\u001b[0m \u001b[38;5;28;01mexcept\u001b[39;00m \u001b[38;5;167;01mKeyError\u001b[39;00m \u001b[38;5;28;01mas\u001b[39;00m err:\n",
      "File \u001b[0;32mindex.pyx:167\u001b[0m, in \u001b[0;36mpandas._libs.index.IndexEngine.get_loc\u001b[0;34m()\u001b[0m\n",
      "File \u001b[0;32mindex.pyx:196\u001b[0m, in \u001b[0;36mpandas._libs.index.IndexEngine.get_loc\u001b[0;34m()\u001b[0m\n",
      "File \u001b[0;32mpandas/_libs/hashtable_class_helper.pxi:7081\u001b[0m, in \u001b[0;36mpandas._libs.hashtable.PyObjectHashTable.get_item\u001b[0;34m()\u001b[0m\n",
      "File \u001b[0;32mpandas/_libs/hashtable_class_helper.pxi:7089\u001b[0m, in \u001b[0;36mpandas._libs.hashtable.PyObjectHashTable.get_item\u001b[0;34m()\u001b[0m\n",
      "\u001b[0;31mKeyError\u001b[0m: 'day'",
      "\nThe above exception was the direct cause of the following exception:\n",
      "\u001b[0;31mKeyError\u001b[0m                                  Traceback (most recent call last)",
      "Cell \u001b[0;32mIn[151], line 4\u001b[0m\n\u001b[1;32m      2\u001b[0m chi_results \u001b[38;5;241m=\u001b[39m []\n\u001b[1;32m      3\u001b[0m \u001b[38;5;28;01mfor\u001b[39;00m day \u001b[38;5;129;01min\u001b[39;00m retention_days:\n\u001b[0;32m----> 4\u001b[0m     sub \u001b[38;5;241m=\u001b[39m retention_df[\u001b[43mretention_df\u001b[49m\u001b[43m[\u001b[49m\u001b[38;5;124;43m'\u001b[39;49m\u001b[38;5;124;43mday\u001b[39;49m\u001b[38;5;124;43m'\u001b[39;49m\u001b[43m]\u001b[49m \u001b[38;5;241m==\u001b[39m day]\n\u001b[1;32m      5\u001b[0m     retained \u001b[38;5;241m=\u001b[39m sub[\u001b[38;5;124m'\u001b[39m\u001b[38;5;124mretained\u001b[39m\u001b[38;5;124m'\u001b[39m]\u001b[38;5;241m.\u001b[39mvalues\n\u001b[1;32m      6\u001b[0m     total \u001b[38;5;241m=\u001b[39m sub[\u001b[38;5;124m'\u001b[39m\u001b[38;5;124mtotal\u001b[39m\u001b[38;5;124m'\u001b[39m]\u001b[38;5;241m.\u001b[39mvalues\n",
      "File \u001b[0;32m~/Desktop/A_B_testing/.venv/lib/python3.10/site-packages/pandas/core/frame.py:4102\u001b[0m, in \u001b[0;36mDataFrame.__getitem__\u001b[0;34m(self, key)\u001b[0m\n\u001b[1;32m   4100\u001b[0m \u001b[38;5;28;01mif\u001b[39;00m \u001b[38;5;28mself\u001b[39m\u001b[38;5;241m.\u001b[39mcolumns\u001b[38;5;241m.\u001b[39mnlevels \u001b[38;5;241m>\u001b[39m \u001b[38;5;241m1\u001b[39m:\n\u001b[1;32m   4101\u001b[0m     \u001b[38;5;28;01mreturn\u001b[39;00m \u001b[38;5;28mself\u001b[39m\u001b[38;5;241m.\u001b[39m_getitem_multilevel(key)\n\u001b[0;32m-> 4102\u001b[0m indexer \u001b[38;5;241m=\u001b[39m \u001b[38;5;28;43mself\u001b[39;49m\u001b[38;5;241;43m.\u001b[39;49m\u001b[43mcolumns\u001b[49m\u001b[38;5;241;43m.\u001b[39;49m\u001b[43mget_loc\u001b[49m\u001b[43m(\u001b[49m\u001b[43mkey\u001b[49m\u001b[43m)\u001b[49m\n\u001b[1;32m   4103\u001b[0m \u001b[38;5;28;01mif\u001b[39;00m is_integer(indexer):\n\u001b[1;32m   4104\u001b[0m     indexer \u001b[38;5;241m=\u001b[39m [indexer]\n",
      "File \u001b[0;32m~/Desktop/A_B_testing/.venv/lib/python3.10/site-packages/pandas/core/indexes/base.py:3812\u001b[0m, in \u001b[0;36mIndex.get_loc\u001b[0;34m(self, key)\u001b[0m\n\u001b[1;32m   3807\u001b[0m     \u001b[38;5;28;01mif\u001b[39;00m \u001b[38;5;28misinstance\u001b[39m(casted_key, \u001b[38;5;28mslice\u001b[39m) \u001b[38;5;129;01mor\u001b[39;00m (\n\u001b[1;32m   3808\u001b[0m         \u001b[38;5;28misinstance\u001b[39m(casted_key, abc\u001b[38;5;241m.\u001b[39mIterable)\n\u001b[1;32m   3809\u001b[0m         \u001b[38;5;129;01mand\u001b[39;00m \u001b[38;5;28many\u001b[39m(\u001b[38;5;28misinstance\u001b[39m(x, \u001b[38;5;28mslice\u001b[39m) \u001b[38;5;28;01mfor\u001b[39;00m x \u001b[38;5;129;01min\u001b[39;00m casted_key)\n\u001b[1;32m   3810\u001b[0m     ):\n\u001b[1;32m   3811\u001b[0m         \u001b[38;5;28;01mraise\u001b[39;00m InvalidIndexError(key)\n\u001b[0;32m-> 3812\u001b[0m     \u001b[38;5;28;01mraise\u001b[39;00m \u001b[38;5;167;01mKeyError\u001b[39;00m(key) \u001b[38;5;28;01mfrom\u001b[39;00m\u001b[38;5;250m \u001b[39m\u001b[38;5;21;01merr\u001b[39;00m\n\u001b[1;32m   3813\u001b[0m \u001b[38;5;28;01mexcept\u001b[39;00m \u001b[38;5;167;01mTypeError\u001b[39;00m:\n\u001b[1;32m   3814\u001b[0m     \u001b[38;5;66;03m# If we have a listlike key, _check_indexing_error will raise\u001b[39;00m\n\u001b[1;32m   3815\u001b[0m     \u001b[38;5;66;03m#  InvalidIndexError. Otherwise we fall through and re-raise\u001b[39;00m\n\u001b[1;32m   3816\u001b[0m     \u001b[38;5;66;03m#  the TypeError.\u001b[39;00m\n\u001b[1;32m   3817\u001b[0m     \u001b[38;5;28mself\u001b[39m\u001b[38;5;241m.\u001b[39m_check_indexing_error(key)\n",
      "\u001b[0;31mKeyError\u001b[0m: 'day'"
     ]
    }
   ],
   "source": [
    "\n",
    "# Chi-squared tests\n",
    "chi_results = []\n",
    "for day in retention_days:\n",
    "    sub = retention_df[retention_df['day'] == day]\n",
    "    retained = sub['retained'].values\n",
    "    total = sub['total'].values\n",
    "    contingency = [\n",
    "        [retained[0], total[0] - retained[0]],\n",
    "        [retained[1], total[1] - retained[1]]\n",
    "    ]\n",
    "    chi2, p, _, _ = chi2_contingency(contingency)\n",
    "    chi_results.append({'day': day, 'chi2_stat': chi2, 'p_value': p})\n",
    "\n",
    "chi_df = pd.DataFrame(chi_results)\n",
    "retention_df = retention_df.merge(chi_df, on='day')\n",
    "print(retention_df)"
   ]
  },
  {
   "cell_type": "markdown",
   "metadata": {},
   "source": [
    "#### Check confounders"
   ]
  },
  {
   "cell_type": "code",
   "execution_count": 46,
   "metadata": {},
   "outputs": [
    {
     "name": "stdout",
     "output_type": "stream",
     "text": [
      "Channel p-value: 0.9659\n",
      "Country p-value: 0.2520\n",
      "Payer p-value: 0.9988\n"
     ]
    }
   ],
   "source": [
    "# Get only one row per user for confounders\n",
    "df_users = df_us.sort_values(\"date_id\").drop_duplicates(\"login_id\")\n",
    "\n",
    "# Compare registration_channel\n",
    "channel_ct = pd.crosstab(df_users['group'], df_users['registration_channel'])\n",
    "chi2_channel, p_channel, _, _ = chi2_contingency(channel_ct)\n",
    "\n",
    "# Compare registration_country (use top 10 countries for readability)\n",
    "top_countries = df_users['registration_country'].value_counts().head(10).index\n",
    "country_ct = pd.crosstab(\n",
    "    df_users[df_users['registration_country'].isin(top_countries)]['group'],\n",
    "    df_users[df_users['registration_country'].isin(top_countries)]['registration_country']\n",
    ")\n",
    "chi2_country, p_country, _, _ = chi2_contingency(country_ct)\n",
    "\n",
    "# Compare payer status\n",
    "payer_ct = pd.crosstab(df_users['group'], df_users['payer'])\n",
    "chi2_payer, p_payer, _, _ = chi2_contingency(payer_ct)\n",
    "\n",
    "print(f\"Channel p-value: {p_channel:.4f}\")\n",
    "print(f\"Country p-value: {p_country:.4f}\")\n",
    "print(f\"Payer p-value: {p_payer:.4f}\")"
   ]
  },
  {
   "cell_type": "markdown",
   "metadata": {},
   "source": [
    "## Time Series DAU and Retention Curves"
   ]
  },
  {
   "cell_type": "markdown",
   "metadata": {
    "id": "Bw-ZXoKaR-cZ"
   },
   "source": [
    "# Summation and Final Conclusion"
   ]
  },
  {
   "cell_type": "markdown",
   "metadata": {},
   "source": [
    "- **Group 2**, which received the popup **after the tutorial**, had a **higher hit rate**. This suggests that delaying the notification request until after the tutorial is **statistically more effective**.\n",
    "\n",
    "- There is **no statistical significance** between Group 1 and Group 2 for retention rates \n"
   ]
  },
  {
   "cell_type": "code",
   "execution_count": null,
   "metadata": {},
   "outputs": [],
   "source": []
  }
 ],
 "metadata": {
  "colab": {
   "provenance": [],
   "toc_visible": true
  },
  "kernelspec": {
   "display_name": "Python 3 (ipykernel)",
   "language": "python",
   "name": "python3"
  },
  "language_info": {
   "codemirror_mode": {
    "name": "ipython",
    "version": 3
   },
   "file_extension": ".py",
   "mimetype": "text/x-python",
   "name": "python",
   "nbconvert_exporter": "python",
   "pygments_lexer": "ipython3",
   "version": "3.10.16"
  }
 },
 "nbformat": 4,
 "nbformat_minor": 4
}
