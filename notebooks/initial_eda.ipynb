{
 "cells": [
  {
   "cell_type": "markdown",
   "metadata": {
    "id": "Vd4N6DIbQ8Py",
    "jp-MarkdownHeadingCollapsed": true
   },
   "source": [
    "# Introduction"
   ]
  },
  {
   "cell_type": "markdown",
   "metadata": {},
   "source": [
    "## Problem description: A/B testing\n",
    "\n",
    "---\n",
    "\n",
    "## Setup\n",
    "\n",
    "Players (users) are randomly split in two groups:\n",
    "\n",
    "- group1 - even loginIDs\n",
    "- group2 - odd loginIDs\n",
    "\n",
    "We are testing which is the best time / place to show popup to players asking them to allow push notifications:\n",
    "\n",
    "- group1 - immediately after the installation (before the first tutorial battle)\n",
    "- group2 - after the tutorial (which consists of 5 battles)\n",
    "\n",
    "We are optimizing towards:\n",
    "\n",
    "- Hit rate (% of players who allow push notifications)\n",
    "- Player Retention\n",
    "\n",
    "Test was run for two weeks (14 days). Only players that participated in the test appear in the provided data.\n",
    "\n",
    "## Data\n",
    "\n",
    "There are two anonimized files:\n",
    "\n",
    "- `notification_allowed.csv`\n",
    "- `user_history.csv`\n",
    "\n",
    "### notification_allowed.csv\n",
    "Sent after request popup has been shown and player has answered (closing the app defaults to `false` as an answer).\n",
    "\n",
    "```\n",
    "login_id = int, starting from 1\n",
    "time\n",
    "allowed_notifications = true / false\n",
    "date_id = int, starting from 0, measuring days since the start of the test\n",
    "```\n",
    "\n",
    "### user_history.csv\n",
    "Generated at the end of each day. It is sent for every active user and for every payer (all time payer). When 21 days pass after the player has logged in for the last time, player no longer appears in this table. This is not true for payers, as they are eligible to appear in this table no matter how long has passed since the last log in.\n",
    "\n",
    "```\n",
    "  login_id = int, starting from 1\n",
    "  registration_date_id = date_id when a player has joined the game\n",
    "  registration_channel = Paid/Organic\n",
    "  registration_country = country of origin of the first session\n",
    "  payer = player has spent money at any time in the past\n",
    "  dau = daily active player: 0 or 1 in this table\n",
    "  sessions_count = daily count of sessions\n",
    "  playtime = daily total playtime\n",
    "  last_login_day = date_id of the last login, up to this day\n",
    "  days_active_last_7_days = number of days user was active, including this day\n",
    "  cohort_size = 1 for all in this table\n",
    "  elo_rating = elo (trophie count) at the end of the day\n",
    "  arena_level = arena level at the end of the day\n",
    "  gold = gold stash at the end of the day\n",
    "  runes_stash_class1_tier1 = stash of various currencies\n",
    "  runes_stash_class2_tier1\n",
    "  runes_stash_class3_tier1\n",
    "  runes_stash_tier2\n",
    "  spell_runes_stash\n",
    "  hero_dust\n",
    "  item_dust\n",
    "  gold_gained_total = stats for various currencies\n",
    "  gold_bought_total\n",
    "  gold_spent_total\n",
    "  runes_gained_total_class1_tier1\n",
    "  runes_gained_total_class2_tier1\n",
    "  runes_gained_total_class3_tier1\n",
    "  runes_gained_total_tier_2\n",
    "  spell_runes_gained_total\n",
    "  runes_spent_class1_tier1\n",
    "  runes_spent_class2_tier1\n",
    "  runes_spent_class3_tier1\n",
    "  runes_spent_total_tier2\n",
    "  spell_runes_spent_total\n",
    "  hero_dust_spent_total\n",
    "  hero_dust_gained_total\n",
    "  tokens\n",
    "  tokens_gained_total\n",
    "  enter_queue_count = number of times player has entered PvP queue\n",
    "  battles_played = daily battles played\n",
    "  battles_won = daily battles won\n",
    "  battles_played_total = battles played up to this day\n",
    "  battles_won_total = battles won up to this day\n",
    "  heroes_unlocked = heroes unlocked up to this day\n",
    "  heroes_level = hero stats\n",
    "  hero_shards = hero stats\n",
    "  minion_upgrades = number of times user has upgraded minions\n",
    "  free_chests_opened_total = various chest stats\n",
    "  silver_chests_opened_total\n",
    "  golden_chests_opened_total\n",
    "  magical_chests_opened_total\n",
    "  victory_chests_opened_total\n",
    "  pvp_event_small_chest_small\n",
    "  pvp_event_small_chest_medium\n",
    "  pvp_event_small_chest_large\n",
    "  pvp_event_big_chest_small\n",
    "  pvp_event_big_chest_medium\n",
    "  pvp_event_big_chest_large\n",
    "  cards_gained_total = various card stats\n",
    "  minion_cards_gained_common_total\n",
    "  minion_cards_gained_rare_total\n",
    "  minion_cards_gained_epic_total\n",
    "  minion_cards_gained_legendary_total\n",
    "  spell_cards_gained_common_total\n",
    "  spell_cards_gained_rare_total\n",
    "  spell_cards_gained_epic_total\n",
    "  spell_cards_gained_legendary_total\n",
    "  campaign_tickets = various campaign stats\n",
    "  max_campaign_level\n",
    "  equipment_bonus\n",
    "  campaign_battles\n",
    "  campaign_battles_total\n",
    "  event_battles = various live event stats\n",
    "  event_battles_total\n",
    "  event_tokens\n",
    "  group_points\n",
    "  lives_spent\n",
    "  milestone_points\n",
    "  date_id = int, starting from 0, measuring days since the start of the test\n",
    "```\n"
   ]
  },
  {
   "cell_type": "markdown",
   "metadata": {
    "id": "KL-644O8RY4i",
    "jp-MarkdownHeadingCollapsed": true
   },
   "source": [
    "## Import libraries"
   ]
  },
  {
   "cell_type": "code",
   "execution_count": 62,
   "metadata": {
    "id": "20S4iCn8SjGf"
   },
   "outputs": [],
   "source": [
    "# Basic libraries\n",
    "import os\n",
    "import warnings\n",
    "import numpy as np\n",
    "import pandas as pd\n",
    "import seaborn as sns\n",
    "\n",
    "\n",
    "# Visualization\n",
    "import matplotlib.pyplot as plt\n",
    "import seaborn as sns\n",
    "import matplotlib.lines as mlines\n",
    "from sklearn.tree import plot_tree\n",
    "\n",
    "import random\n",
    "from pathlib import Path\n",
    "\n",
    "import scipy.stats as stats\n",
    "from scipy.stats import chi2_contingency\n"
   ]
  },
  {
   "cell_type": "markdown",
   "metadata": {
    "id": "MZ5fov0CRuN6",
    "jp-MarkdownHeadingCollapsed": true
   },
   "source": [
    "## Util functions"
   ]
  },
  {
   "cell_type": "code",
   "execution_count": 24,
   "metadata": {
    "id": "5fAxzq4OShaf"
   },
   "outputs": [],
   "source": [
    "def na_percentage(df):\n",
    "  missing_percentage = df.isna().sum() / df.shape[0] * 100\n",
    "  missing_percentage_sorted = missing_percentage.sort_values(ascending=False)\n",
    "  print(missing_percentage_sorted)"
   ]
  },
  {
   "cell_type": "markdown",
   "metadata": {
    "id": "3XboqjYfRwXK"
   },
   "source": [
    "## Load data"
   ]
  },
  {
   "cell_type": "code",
   "execution_count": 48,
   "metadata": {
    "id": "osimFxibQ26f",
    "outputId": "cdb80a5b-19e1-4e9f-9a50-5935e16e1c3d"
   },
   "outputs": [
    {
     "data": {
      "text/plain": [
       "(3859, 4)"
      ]
     },
     "execution_count": 48,
     "metadata": {},
     "output_type": "execute_result"
    }
   ],
   "source": [
    "file_path_notification = \"/Users/mipopovic/Desktop/A_B_testing/data/notification_allowed.csv\"\n",
    "df_not = pd.read_csv(file_path_notification)\n",
    "df_not.shape"
   ]
  },
  {
   "cell_type": "code",
   "execution_count": 49,
   "metadata": {
    "colab": {
     "base_uri": "https://localhost:8080/",
     "height": 206
    },
    "id": "XqdnEfeWVMVS",
    "outputId": "5f1fb296-dba2-4834-97d7-e4956cea454f"
   },
   "outputs": [
    {
     "data": {
      "text/html": [
       "<div>\n",
       "<style scoped>\n",
       "    .dataframe tbody tr th:only-of-type {\n",
       "        vertical-align: middle;\n",
       "    }\n",
       "\n",
       "    .dataframe tbody tr th {\n",
       "        vertical-align: top;\n",
       "    }\n",
       "\n",
       "    .dataframe thead th {\n",
       "        text-align: right;\n",
       "    }\n",
       "</style>\n",
       "<table border=\"1\" class=\"dataframe\">\n",
       "  <thead>\n",
       "    <tr style=\"text-align: right;\">\n",
       "      <th></th>\n",
       "      <th>login_id</th>\n",
       "      <th>time</th>\n",
       "      <th>allowed_notifications</th>\n",
       "      <th>date_id</th>\n",
       "      <th>group</th>\n",
       "    </tr>\n",
       "  </thead>\n",
       "  <tbody>\n",
       "    <tr>\n",
       "      <th>0</th>\n",
       "      <td>352</td>\n",
       "      <td>999</td>\n",
       "      <td>True</td>\n",
       "      <td>0</td>\n",
       "      <td>1</td>\n",
       "    </tr>\n",
       "    <tr>\n",
       "      <th>1</th>\n",
       "      <td>184</td>\n",
       "      <td>2780</td>\n",
       "      <td>True</td>\n",
       "      <td>0</td>\n",
       "      <td>1</td>\n",
       "    </tr>\n",
       "    <tr>\n",
       "      <th>2</th>\n",
       "      <td>162</td>\n",
       "      <td>2928</td>\n",
       "      <td>False</td>\n",
       "      <td>0</td>\n",
       "      <td>1</td>\n",
       "    </tr>\n",
       "    <tr>\n",
       "      <th>3</th>\n",
       "      <td>130</td>\n",
       "      <td>3689</td>\n",
       "      <td>True</td>\n",
       "      <td>0</td>\n",
       "      <td>1</td>\n",
       "    </tr>\n",
       "    <tr>\n",
       "      <th>4</th>\n",
       "      <td>124</td>\n",
       "      <td>4547</td>\n",
       "      <td>True</td>\n",
       "      <td>0</td>\n",
       "      <td>1</td>\n",
       "    </tr>\n",
       "  </tbody>\n",
       "</table>\n",
       "</div>"
      ],
      "text/plain": [
       "   login_id  time  allowed_notifications  date_id  group\n",
       "0       352   999                   True        0      1\n",
       "1       184  2780                   True        0      1\n",
       "2       162  2928                  False        0      1\n",
       "3       130  3689                   True        0      1\n",
       "4       124  4547                   True        0      1"
      ]
     },
     "execution_count": 49,
     "metadata": {},
     "output_type": "execute_result"
    }
   ],
   "source": [
    "df.head()"
   ]
  },
  {
   "cell_type": "code",
   "execution_count": 50,
   "metadata": {
    "id": "KkeInVJQBhHQ",
    "outputId": "891e2e2a-ef94-4ae4-d8fd-bb3c056a89bb"
   },
   "outputs": [
    {
     "data": {
      "text/plain": [
       "(122459, 79)"
      ]
     },
     "execution_count": 50,
     "metadata": {},
     "output_type": "execute_result"
    }
   ],
   "source": [
    "file_path_user_history = \"/Users/mipopovic/Desktop/A_B_testing/data/user_history.csv\"\n",
    "df_us = pd.read_csv(file_path_user_history)\n",
    "df_us.shape"
   ]
  },
  {
   "cell_type": "code",
   "execution_count": 51,
   "metadata": {},
   "outputs": [
    {
     "data": {
      "text/html": [
       "<div>\n",
       "<style scoped>\n",
       "    .dataframe tbody tr th:only-of-type {\n",
       "        vertical-align: middle;\n",
       "    }\n",
       "\n",
       "    .dataframe tbody tr th {\n",
       "        vertical-align: top;\n",
       "    }\n",
       "\n",
       "    .dataframe thead th {\n",
       "        text-align: right;\n",
       "    }\n",
       "</style>\n",
       "<table border=\"1\" class=\"dataframe\">\n",
       "  <thead>\n",
       "    <tr style=\"text-align: right;\">\n",
       "      <th></th>\n",
       "      <th>login_id</th>\n",
       "      <th>registration_date_id</th>\n",
       "      <th>registration_channel</th>\n",
       "      <th>registration_country</th>\n",
       "      <th>payer</th>\n",
       "      <th>dau</th>\n",
       "      <th>sessions_count</th>\n",
       "      <th>playtime</th>\n",
       "      <th>last_login_day</th>\n",
       "      <th>days_active_last_7_days</th>\n",
       "      <th>...</th>\n",
       "      <th>equipment_bonus</th>\n",
       "      <th>campaign_battles</th>\n",
       "      <th>campaign_battles_total</th>\n",
       "      <th>event_battles</th>\n",
       "      <th>event_battles_total</th>\n",
       "      <th>event_tokens</th>\n",
       "      <th>group_points</th>\n",
       "      <th>lives_spent</th>\n",
       "      <th>milestone_points</th>\n",
       "      <th>date_id</th>\n",
       "    </tr>\n",
       "  </thead>\n",
       "  <tbody>\n",
       "    <tr>\n",
       "      <th>0</th>\n",
       "      <td>1</td>\n",
       "      <td>0</td>\n",
       "      <td>Organic</td>\n",
       "      <td>Canada</td>\n",
       "      <td>False</td>\n",
       "      <td>1</td>\n",
       "      <td>3</td>\n",
       "      <td>1351</td>\n",
       "      <td>0</td>\n",
       "      <td>1</td>\n",
       "      <td>...</td>\n",
       "      <td>0.0</td>\n",
       "      <td>5</td>\n",
       "      <td>5</td>\n",
       "      <td>0</td>\n",
       "      <td>0</td>\n",
       "      <td>15</td>\n",
       "      <td>0</td>\n",
       "      <td>0</td>\n",
       "      <td>0</td>\n",
       "      <td>0</td>\n",
       "    </tr>\n",
       "    <tr>\n",
       "      <th>1</th>\n",
       "      <td>2</td>\n",
       "      <td>0</td>\n",
       "      <td>Organic</td>\n",
       "      <td>Brazil</td>\n",
       "      <td>False</td>\n",
       "      <td>1</td>\n",
       "      <td>1</td>\n",
       "      <td>1046</td>\n",
       "      <td>0</td>\n",
       "      <td>1</td>\n",
       "      <td>...</td>\n",
       "      <td>0.0</td>\n",
       "      <td>2</td>\n",
       "      <td>2</td>\n",
       "      <td>0</td>\n",
       "      <td>0</td>\n",
       "      <td>15</td>\n",
       "      <td>0</td>\n",
       "      <td>0</td>\n",
       "      <td>0</td>\n",
       "      <td>0</td>\n",
       "    </tr>\n",
       "    <tr>\n",
       "      <th>2</th>\n",
       "      <td>3</td>\n",
       "      <td>0</td>\n",
       "      <td>Organic</td>\n",
       "      <td>Brazil</td>\n",
       "      <td>False</td>\n",
       "      <td>1</td>\n",
       "      <td>7</td>\n",
       "      <td>5854</td>\n",
       "      <td>0</td>\n",
       "      <td>1</td>\n",
       "      <td>...</td>\n",
       "      <td>0.0</td>\n",
       "      <td>8</td>\n",
       "      <td>8</td>\n",
       "      <td>0</td>\n",
       "      <td>0</td>\n",
       "      <td>40</td>\n",
       "      <td>0</td>\n",
       "      <td>0</td>\n",
       "      <td>0</td>\n",
       "      <td>0</td>\n",
       "    </tr>\n",
       "    <tr>\n",
       "      <th>3</th>\n",
       "      <td>4</td>\n",
       "      <td>0</td>\n",
       "      <td>Paid</td>\n",
       "      <td>France</td>\n",
       "      <td>False</td>\n",
       "      <td>1</td>\n",
       "      <td>1</td>\n",
       "      <td>772</td>\n",
       "      <td>0</td>\n",
       "      <td>1</td>\n",
       "      <td>...</td>\n",
       "      <td>0.0</td>\n",
       "      <td>1</td>\n",
       "      <td>1</td>\n",
       "      <td>0</td>\n",
       "      <td>0</td>\n",
       "      <td>40</td>\n",
       "      <td>0</td>\n",
       "      <td>0</td>\n",
       "      <td>0</td>\n",
       "      <td>0</td>\n",
       "    </tr>\n",
       "    <tr>\n",
       "      <th>4</th>\n",
       "      <td>5</td>\n",
       "      <td>0</td>\n",
       "      <td>Paid</td>\n",
       "      <td>United Kingdom</td>\n",
       "      <td>False</td>\n",
       "      <td>1</td>\n",
       "      <td>1</td>\n",
       "      <td>521</td>\n",
       "      <td>0</td>\n",
       "      <td>1</td>\n",
       "      <td>...</td>\n",
       "      <td>0.0</td>\n",
       "      <td>2</td>\n",
       "      <td>2</td>\n",
       "      <td>0</td>\n",
       "      <td>0</td>\n",
       "      <td>5</td>\n",
       "      <td>0</td>\n",
       "      <td>0</td>\n",
       "      <td>0</td>\n",
       "      <td>0</td>\n",
       "    </tr>\n",
       "  </tbody>\n",
       "</table>\n",
       "<p>5 rows × 79 columns</p>\n",
       "</div>"
      ],
      "text/plain": [
       "   login_id  registration_date_id registration_channel registration_country  \\\n",
       "0         1                     0              Organic               Canada   \n",
       "1         2                     0              Organic               Brazil   \n",
       "2         3                     0              Organic               Brazil   \n",
       "3         4                     0                 Paid               France   \n",
       "4         5                     0                 Paid       United Kingdom   \n",
       "\n",
       "   payer  dau  sessions_count  playtime  last_login_day  \\\n",
       "0  False    1               3      1351               0   \n",
       "1  False    1               1      1046               0   \n",
       "2  False    1               7      5854               0   \n",
       "3  False    1               1       772               0   \n",
       "4  False    1               1       521               0   \n",
       "\n",
       "   days_active_last_7_days  ...  equipment_bonus  campaign_battles  \\\n",
       "0                        1  ...              0.0                 5   \n",
       "1                        1  ...              0.0                 2   \n",
       "2                        1  ...              0.0                 8   \n",
       "3                        1  ...              0.0                 1   \n",
       "4                        1  ...              0.0                 2   \n",
       "\n",
       "   campaign_battles_total  event_battles  event_battles_total  event_tokens  \\\n",
       "0                       5              0                    0            15   \n",
       "1                       2              0                    0            15   \n",
       "2                       8              0                    0            40   \n",
       "3                       1              0                    0            40   \n",
       "4                       2              0                    0             5   \n",
       "\n",
       "   group_points  lives_spent  milestone_points  date_id  \n",
       "0             0            0                 0        0  \n",
       "1             0            0                 0        0  \n",
       "2             0            0                 0        0  \n",
       "3             0            0                 0        0  \n",
       "4             0            0                 0        0  \n",
       "\n",
       "[5 rows x 79 columns]"
      ]
     },
     "execution_count": 51,
     "metadata": {},
     "output_type": "execute_result"
    }
   ],
   "source": [
    "df_us.head()"
   ]
  },
  {
   "cell_type": "markdown",
   "metadata": {
    "jp-MarkdownHeadingCollapsed": true
   },
   "source": [
    "# EDA"
   ]
  },
  {
   "cell_type": "markdown",
   "metadata": {},
   "source": [
    "## Checking for missing values"
   ]
  },
  {
   "cell_type": "code",
   "execution_count": 65,
   "metadata": {},
   "outputs": [
    {
     "name": "stdout",
     "output_type": "stream",
     "text": [
      "login_id                 0.0\n",
      "time                     0.0\n",
      "allowed_notifications    0.0\n",
      "date_id                  0.0\n",
      "group                    0.0\n",
      "dtype: float64\n"
     ]
    }
   ],
   "source": [
    "na_percentage(df_not)"
   ]
  },
  {
   "cell_type": "code",
   "execution_count": 64,
   "metadata": {},
   "outputs": [
    {
     "name": "stdout",
     "output_type": "stream",
     "text": [
      "registration_date_id_reg              0.0\n",
      "login_id                              0.0\n",
      "spell_cards_gained_legendary_total    0.0\n",
      "campaign_tickets                      0.0\n",
      "max_campaign_level                    0.0\n",
      "                                     ... \n",
      "dau                                   0.0\n",
      "sessions_count                        0.0\n",
      "playtime                              0.0\n",
      "last_login_day                        0.0\n",
      "days_active_last_7_days               0.0\n",
      "Length: 82, dtype: float64\n"
     ]
    }
   ],
   "source": [
    "na_percentage(df_us)"
   ]
  },
  {
   "cell_type": "markdown",
   "metadata": {},
   "source": [
    "## Dropping useless columns"
   ]
  },
  {
   "cell_type": "markdown",
   "metadata": {
    "jp-MarkdownHeadingCollapsed": true
   },
   "source": [
    "# Statystical Analysis"
   ]
  },
  {
   "cell_type": "markdown",
   "metadata": {},
   "source": [
    "## Hit Rate Analysis"
   ]
  },
  {
   "cell_type": "code",
   "execution_count": 52,
   "metadata": {},
   "outputs": [],
   "source": [
    "df_not['group'] = df_not['login_id'].apply(lambda x: 1 if x % 2 == 0 else 2)"
   ]
  },
  {
   "cell_type": "code",
   "execution_count": 53,
   "metadata": {},
   "outputs": [
    {
     "name": "stdout",
     "output_type": "stream",
     "text": [
      "   group  total_responses  hits  hit_rate\n",
      "0      1             2487  1434  0.576598\n",
      "1      2             1372   861  0.627551\n"
     ]
    }
   ],
   "source": [
    "\n",
    "# Step 2: Hit rate analysis\n",
    "hit_rate_summary = df_not.groupby('group')['allowed_notifications'].agg(\n",
    "    total_responses='count',\n",
    "    hits='sum'\n",
    ").reset_index()\n",
    "\n",
    "hit_rate_summary['hit_rate'] = hit_rate_summary['hits'] / hit_rate_summary['total_responses']\n",
    "\n",
    "print(hit_rate_summary)\n"
   ]
  },
  {
   "cell_type": "code",
   "execution_count": 55,
   "metadata": {},
   "outputs": [
    {
     "name": "stdout",
     "output_type": "stream",
     "text": [
      "Z-test statistic = -3.0861, p-value = 0.0020\n"
     ]
    }
   ],
   "source": [
    "\n",
    "# Optional: z-test for proportions\n",
    "from statsmodels.stats.proportion import proportions_ztest\n",
    "\n",
    "counts = hit_rate_summary['hits'].values\n",
    "nobs = hit_rate_summary['total_responses'].values\n",
    "stat, pval = proportions_ztest(count=counts, nobs=nobs)\n",
    "print(f\"Z-test statistic = {stat:.4f}, p-value = {pval:.4f}\")"
   ]
  },
  {
   "cell_type": "markdown",
   "metadata": {
    "jp-MarkdownHeadingCollapsed": true
   },
   "source": [
    "## Retention Rate"
   ]
  },
  {
   "cell_type": "code",
   "execution_count": 59,
   "metadata": {},
   "outputs": [],
   "source": [
    "\n",
    "# Prepare user registration date\n",
    "user_reg_date = df_us[['login_id', 'registration_date_id']].drop_duplicates()\n",
    "df_us = df_us.merge(user_reg_date, on='login_id', suffixes=('', '_reg'))\n",
    "\n",
    "# Define retention days\n",
    "retention_days = [1, 7, 14]\n",
    "retention_results = []\n",
    "\n",
    "for day in retention_days:\n",
    "    target_df = df_us[df_us['date_id'] == df_us['registration_date_id'] + day]\n",
    "    \n",
    "    # Filter only users with sufficient observation period\n",
    "    eligible_users = df_us[df_us['registration_date_id'] + day <= df_us['date_id'].max()]\n",
    "    eligible_users = eligible_users[['login_id', 'group']].drop_duplicates()\n",
    "    \n",
    "    # Get users retained (dau=1) on target day\n",
    "    retained_users = target_df[target_df['dau'] == 1][['login_id']].drop_duplicates()\n",
    "    retained_users['retained'] = 1\n",
    "\n",
    "    # Merge to mark retention\n",
    "    retention = eligible_users.merge(retained_users, on='login_id', how='left')\n",
    "    retention['retained'] = retention['retained'].fillna(0)\n",
    "\n",
    "    summary = retention.groupby('group')['retained'].agg(\n",
    "        retained='sum',\n",
    "        total='count'\n",
    "    ).reset_index()\n",
    "    summary['retention_rate'] = summary['retained'] / summary['total']\n",
    "    summary['day'] = day\n",
    "    retention_results.append(summary)\n",
    "\n",
    "retention_df = pd.concat(retention_results)\n"
   ]
  },
  {
   "cell_type": "code",
   "execution_count": 60,
   "metadata": {},
   "outputs": [
    {
     "name": "stdout",
     "output_type": "stream",
     "text": [
      "   group  retained  total  retention_rate  day  chi2_stat   p_value\n",
      "0      1    1058.0   2489        0.425070    1   5.550738  0.018473\n",
      "1      2    1142.0   2490        0.458635    1   5.550738  0.018473\n",
      "2      1     596.0   2489        0.239454    7   0.896692  0.343670\n",
      "3      2     626.0   2490        0.251406    7   0.896692  0.343670\n",
      "4      1     447.0   2489        0.179590   14   0.256944  0.612227\n",
      "5      2     462.0   2490        0.185542   14   0.256944  0.612227\n"
     ]
    }
   ],
   "source": [
    "\n",
    "# Chi-squared tests\n",
    "chi_results = []\n",
    "for day in retention_days:\n",
    "    sub = retention_df[retention_df['day'] == day]\n",
    "    retained = sub['retained'].values\n",
    "    total = sub['total'].values\n",
    "    contingency = [\n",
    "        [retained[0], total[0] - retained[0]],\n",
    "        [retained[1], total[1] - retained[1]]\n",
    "    ]\n",
    "    chi2, p, _, _ = chi2_contingency(contingency)\n",
    "    chi_results.append({'day': day, 'chi2_stat': chi2, 'p_value': p})\n",
    "\n",
    "chi_df = pd.DataFrame(chi_results)\n",
    "retention_df = retention_df.merge(chi_df, on='day')\n",
    "print(retention_df)"
   ]
  },
  {
   "cell_type": "markdown",
   "metadata": {},
   "source": [
    "## Check confounders"
   ]
  },
  {
   "cell_type": "code",
   "execution_count": 61,
   "metadata": {},
   "outputs": [
    {
     "name": "stdout",
     "output_type": "stream",
     "text": [
      "Channel p-value: 0.9659\n",
      "Country p-value: 0.2520\n",
      "Payer p-value: 0.9988\n"
     ]
    }
   ],
   "source": [
    "# Get only one row per user for confounders\n",
    "df_users = df_us.sort_values(\"date_id\").drop_duplicates(\"login_id\")\n",
    "\n",
    "# Compare registration_channel\n",
    "channel_ct = pd.crosstab(df_users['group'], df_users['registration_channel'])\n",
    "chi2_channel, p_channel, _, _ = chi2_contingency(channel_ct)\n",
    "\n",
    "# Compare registration_country (use top 10 countries for readability)\n",
    "top_countries = df_users['registration_country'].value_counts().head(10).index\n",
    "country_ct = pd.crosstab(\n",
    "    df_users[df_users['registration_country'].isin(top_countries)]['group'],\n",
    "    df_users[df_users['registration_country'].isin(top_countries)]['registration_country']\n",
    ")\n",
    "chi2_country, p_country, _, _ = chi2_contingency(country_ct)\n",
    "\n",
    "# Compare payer status\n",
    "payer_ct = pd.crosstab(df_users['group'], df_users['payer'])\n",
    "chi2_payer, p_payer, _, _ = chi2_contingency(payer_ct)\n",
    "\n",
    "print(f\"Channel p-value: {p_channel:.4f}\")\n",
    "print(f\"Country p-value: {p_country:.4f}\")\n",
    "print(f\"Payer p-value: {p_payer:.4f}\")"
   ]
  },
  {
   "cell_type": "markdown",
   "metadata": {},
   "source": [
    "## Time Series DAU and Retention Curves"
   ]
  },
  {
   "cell_type": "code",
   "execution_count": 63,
   "metadata": {},
   "outputs": [
    {
     "data": {
      "image/png": "[encoded data removed]",
      "text/plain": [
       "<Figure size 1000x600 with 1 Axes>"
      ]
     },
     "metadata": {},
     "output_type": "display_data"
    },
    {
     "ename": "KeyError",
     "evalue": "'registration_date_id'",
     "output_type": "error",
     "traceback": [
      "\u001b[0;31m---------------------------------------------------------------------------\u001b[0m",
      "\u001b[0;31mKeyError\u001b[0m                                  Traceback (most recent call last)",
      "File \u001b[0;32m~/Desktop/A_B_testing/.venv/lib/python3.10/site-packages/pandas/core/indexes/base.py:3805\u001b[0m, in \u001b[0;36mIndex.get_loc\u001b[0;34m(self, key)\u001b[0m\n\u001b[1;32m   3804\u001b[0m \u001b[38;5;28;01mtry\u001b[39;00m:\n\u001b[0;32m-> 3805\u001b[0m     \u001b[38;5;28;01mreturn\u001b[39;00m \u001b[38;5;28;43mself\u001b[39;49m\u001b[38;5;241;43m.\u001b[39;49m\u001b[43m_engine\u001b[49m\u001b[38;5;241;43m.\u001b[39;49m\u001b[43mget_loc\u001b[49m\u001b[43m(\u001b[49m\u001b[43mcasted_key\u001b[49m\u001b[43m)\u001b[49m\n\u001b[1;32m   3806\u001b[0m \u001b[38;5;28;01mexcept\u001b[39;00m \u001b[38;5;167;01mKeyError\u001b[39;00m \u001b[38;5;28;01mas\u001b[39;00m err:\n",
      "File \u001b[0;32mindex.pyx:167\u001b[0m, in \u001b[0;36mpandas._libs.index.IndexEngine.get_loc\u001b[0;34m()\u001b[0m\n",
      "File \u001b[0;32mindex.pyx:191\u001b[0m, in \u001b[0;36mpandas._libs.index.IndexEngine.get_loc\u001b[0;34m()\u001b[0m\n",
      "File \u001b[0;32mindex.pyx:234\u001b[0m, in \u001b[0;36mpandas._libs.index.IndexEngine._get_loc_duplicates\u001b[0;34m()\u001b[0m\n",
      "File \u001b[0;32mindex.pyx:242\u001b[0m, in \u001b[0;36mpandas._libs.index.IndexEngine._maybe_get_bool_indexer\u001b[0;34m()\u001b[0m\n",
      "File \u001b[0;32mindex.pyx:134\u001b[0m, in \u001b[0;36mpandas._libs.index._unpack_bool_indexer\u001b[0;34m()\u001b[0m\n",
      "\u001b[0;31mKeyError\u001b[0m: 'registration_date_id'",
      "\nThe above exception was the direct cause of the following exception:\n",
      "\u001b[0;31mKeyError\u001b[0m                                  Traceback (most recent call last)",
      "Cell \u001b[0;32mIn[63], line 23\u001b[0m\n\u001b[1;32m     21\u001b[0m df_ret \u001b[38;5;241m=\u001b[39m df_us[df_us[\u001b[38;5;124m'\u001b[39m\u001b[38;5;124mdau\u001b[39m\u001b[38;5;124m'\u001b[39m] \u001b[38;5;241m==\u001b[39m \u001b[38;5;241m1\u001b[39m]\n\u001b[1;32m     22\u001b[0m df_ret \u001b[38;5;241m=\u001b[39m df_ret\u001b[38;5;241m.\u001b[39mmerge(cohort, on\u001b[38;5;241m=\u001b[39m\u001b[38;5;124m'\u001b[39m\u001b[38;5;124mlogin_id\u001b[39m\u001b[38;5;124m'\u001b[39m)\n\u001b[0;32m---> 23\u001b[0m df_ret[\u001b[38;5;124m'\u001b[39m\u001b[38;5;124mdays_since_reg\u001b[39m\u001b[38;5;124m'\u001b[39m] \u001b[38;5;241m=\u001b[39m df_ret[\u001b[38;5;124m'\u001b[39m\u001b[38;5;124mdate_id\u001b[39m\u001b[38;5;124m'\u001b[39m] \u001b[38;5;241m-\u001b[39m \u001b[43mdf_ret\u001b[49m\u001b[43m[\u001b[49m\u001b[38;5;124;43m'\u001b[39;49m\u001b[38;5;124;43mregistration_date_id\u001b[39;49m\u001b[38;5;124;43m'\u001b[39;49m\u001b[43m]\u001b[49m\n\u001b[1;32m     25\u001b[0m \u001b[38;5;66;03m# Keep only first 14 days for the curve\u001b[39;00m\n\u001b[1;32m     26\u001b[0m curve_data \u001b[38;5;241m=\u001b[39m df_ret[df_ret[\u001b[38;5;124m'\u001b[39m\u001b[38;5;124mdays_since_reg\u001b[39m\u001b[38;5;124m'\u001b[39m] \u001b[38;5;241m<\u001b[39m\u001b[38;5;241m=\u001b[39m \u001b[38;5;241m14\u001b[39m]\n",
      "File \u001b[0;32m~/Desktop/A_B_testing/.venv/lib/python3.10/site-packages/pandas/core/frame.py:4102\u001b[0m, in \u001b[0;36mDataFrame.__getitem__\u001b[0;34m(self, key)\u001b[0m\n\u001b[1;32m   4100\u001b[0m \u001b[38;5;28;01mif\u001b[39;00m \u001b[38;5;28mself\u001b[39m\u001b[38;5;241m.\u001b[39mcolumns\u001b[38;5;241m.\u001b[39mnlevels \u001b[38;5;241m>\u001b[39m \u001b[38;5;241m1\u001b[39m:\n\u001b[1;32m   4101\u001b[0m     \u001b[38;5;28;01mreturn\u001b[39;00m \u001b[38;5;28mself\u001b[39m\u001b[38;5;241m.\u001b[39m_getitem_multilevel(key)\n\u001b[0;32m-> 4102\u001b[0m indexer \u001b[38;5;241m=\u001b[39m \u001b[38;5;28;43mself\u001b[39;49m\u001b[38;5;241;43m.\u001b[39;49m\u001b[43mcolumns\u001b[49m\u001b[38;5;241;43m.\u001b[39;49m\u001b[43mget_loc\u001b[49m\u001b[43m(\u001b[49m\u001b[43mkey\u001b[49m\u001b[43m)\u001b[49m\n\u001b[1;32m   4103\u001b[0m \u001b[38;5;28;01mif\u001b[39;00m is_integer(indexer):\n\u001b[1;32m   4104\u001b[0m     indexer \u001b[38;5;241m=\u001b[39m [indexer]\n",
      "File \u001b[0;32m~/Desktop/A_B_testing/.venv/lib/python3.10/site-packages/pandas/core/indexes/base.py:3812\u001b[0m, in \u001b[0;36mIndex.get_loc\u001b[0;34m(self, key)\u001b[0m\n\u001b[1;32m   3807\u001b[0m     \u001b[38;5;28;01mif\u001b[39;00m \u001b[38;5;28misinstance\u001b[39m(casted_key, \u001b[38;5;28mslice\u001b[39m) \u001b[38;5;129;01mor\u001b[39;00m (\n\u001b[1;32m   3808\u001b[0m         \u001b[38;5;28misinstance\u001b[39m(casted_key, abc\u001b[38;5;241m.\u001b[39mIterable)\n\u001b[1;32m   3809\u001b[0m         \u001b[38;5;129;01mand\u001b[39;00m \u001b[38;5;28many\u001b[39m(\u001b[38;5;28misinstance\u001b[39m(x, \u001b[38;5;28mslice\u001b[39m) \u001b[38;5;28;01mfor\u001b[39;00m x \u001b[38;5;129;01min\u001b[39;00m casted_key)\n\u001b[1;32m   3810\u001b[0m     ):\n\u001b[1;32m   3811\u001b[0m         \u001b[38;5;28;01mraise\u001b[39;00m InvalidIndexError(key)\n\u001b[0;32m-> 3812\u001b[0m     \u001b[38;5;28;01mraise\u001b[39;00m \u001b[38;5;167;01mKeyError\u001b[39;00m(key) \u001b[38;5;28;01mfrom\u001b[39;00m\u001b[38;5;250m \u001b[39m\u001b[38;5;21;01merr\u001b[39;00m\n\u001b[1;32m   3813\u001b[0m \u001b[38;5;28;01mexcept\u001b[39;00m \u001b[38;5;167;01mTypeError\u001b[39;00m:\n\u001b[1;32m   3814\u001b[0m     \u001b[38;5;66;03m# If we have a listlike key, _check_indexing_error will raise\u001b[39;00m\n\u001b[1;32m   3815\u001b[0m     \u001b[38;5;66;03m#  InvalidIndexError. Otherwise we fall through and re-raise\u001b[39;00m\n\u001b[1;32m   3816\u001b[0m     \u001b[38;5;66;03m#  the TypeError.\u001b[39;00m\n\u001b[1;32m   3817\u001b[0m     \u001b[38;5;28mself\u001b[39m\u001b[38;5;241m.\u001b[39m_check_indexing_error(key)\n",
      "\u001b[0;31mKeyError\u001b[0m: 'registration_date_id'"
     ]
    }
   ],
   "source": [
    "\n",
    "# Make sure group is defined\n",
    "df_us['group'] = df_us['login_id'].apply(lambda x: 1 if x % 2 == 0 else 2)\n",
    "\n",
    "# Calculate DAU per group and date\n",
    "dau_trend = df_us.groupby(['date_id', 'group'])['login_id'].nunique().reset_index()\n",
    "dau_trend.rename(columns={'login_id': 'dau'}, inplace=True)\n",
    "\n",
    "# Plot DAU trends\n",
    "plt.figure(figsize=(10, 6))\n",
    "sns.lineplot(data=dau_trend, x='date_id', y='dau', hue='group', marker='o')\n",
    "plt.title(\"Daily Active Users (DAU) Over Time\")\n",
    "plt.xlabel(\"Day Since Test Start\")\n",
    "plt.ylabel(\"Number of Active Users\")\n",
    "plt.legend(title=\"Group\")\n",
    "plt.grid(True)\n",
    "plt.tight_layout()\n",
    "plt.show()\n",
    "\n",
    "# Optional: Retention curve by cohort\n",
    "cohort = df_us[['login_id', 'registration_date_id', 'group']].drop_duplicates()\n",
    "df_ret = df_us[df_us['dau'] == 1]\n",
    "df_ret = df_ret.merge(cohort, on='login_id')\n",
    "df_ret['days_since_reg'] = df_ret['date_id'] - df_ret['registration_date_id']\n",
    "\n",
    "# Keep only first 14 days for the curve\n",
    "curve_data = df_ret[df_ret['days_since_reg'] <= 14]\n",
    "retention_curve = curve_data.groupby(['days_since_reg', 'group'])['login_id'].nunique().reset_index()\n",
    "retention_curve.rename(columns={'login_id': 'retained_users'}, inplace=True)\n",
    "\n",
    "# Normalize by cohort size\n",
    "cohort_sizes = cohort.groupby('group')['login_id'].count()\n",
    "retention_curve['cohort_size'] = retention_curve['group'].map(cohort_sizes)\n",
    "retention_curve['retention_rate'] = retention_curve['retained_users'] / retention_curve['cohort_size']\n",
    "\n",
    "# Plot retention curves\n",
    "plt.figure(figsize=(10, 6))\n",
    "sns.lineplot(data=retention_curve, x='days_since_reg', y='retention_rate', hue='group', marker='o')\n",
    "plt.title(\"Retention Curve by Group (First 14 Days)\")\n",
    "plt.xlabel(\"Days Since Registration\")\n",
    "plt.ylabel(\"Retention Rate\")\n",
    "plt.grid(True)\n",
    "plt.tight_layout()\n",
    "plt.show()"
   ]
  },
  {
   "cell_type": "markdown",
   "metadata": {
    "id": "Bw-ZXoKaR-cZ"
   },
   "source": [
    "# Summation and Final Conclusion"
   ]
  },
  {
   "cell_type": "code",
   "execution_count": null,
   "metadata": {},
   "outputs": [],
   "source": []
  }
 ],
 "metadata": {
  "colab": {
   "provenance": [],
   "toc_visible": true
  },
  "kernelspec": {
   "display_name": "Python 3 (ipykernel)",
   "language": "python",
   "name": "python3"
  },
  "language_info": {
   "codemirror_mode": {
    "name": "ipython",
    "version": 3
   },
   "file_extension": ".py",
   "mimetype": "text/x-python",
   "name": "python",
   "nbconvert_exporter": "python",
   "pygments_lexer": "ipython3",
   "version": "3.10.16"
  }
 },
 "nbformat": 4,
 "nbformat_minor": 4
}
